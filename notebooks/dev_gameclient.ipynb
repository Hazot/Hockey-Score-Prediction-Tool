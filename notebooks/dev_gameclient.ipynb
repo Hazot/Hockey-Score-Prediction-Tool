{
 "cells": [
  {
   "cell_type": "code",
   "execution_count": 1,
   "id": "f62e3587-7dd4-444e-8698-f4ced6309c15",
   "metadata": {},
   "outputs": [],
   "source": [
    "%load_ext autoreload\n",
    "%autoreload 2\n",
    "\n",
    "import pandas as pd\n",
    "from ift6758.data import pd_make_df\n",
    "\n",
    "from ift6758.client import game_client"
   ]
  },
  {
   "cell_type": "code",
   "execution_count": 2,
   "id": "5cd4d8b1-308e-4355-ab74-be218c462cf6",
   "metadata": {},
   "outputs": [],
   "source": [
    "gc = game_client.GameClient()"
   ]
  },
  {
   "cell_type": "code",
   "execution_count": 3,
   "id": "5642515b-945a-4611-94c3-0a9777573eff",
   "metadata": {},
   "outputs": [],
   "source": [
    "from comet_ml import API\n",
    "import os\n",
    "import xgboost as xgb\n",
    "import random\n",
    "import numpy as np\n",
    "import pandas as pd\n",
    "from sklearn.metrics import roc_auc_score\n",
    "\n",
    "api = API(os.environ[\"COMET_ML\"])\n",
    "\n",
    "# experiment = api.get(\"ift-6758-projet-quipe-13/xgboost-models/XGBoost_best_select_features\")"
   ]
  },
  {
   "cell_type": "code",
   "execution_count": 4,
   "id": "ebbc290a-6961-4123-813e-3a40e72c00fd",
   "metadata": {},
   "outputs": [
    {
     "name": "stderr",
     "output_type": "stream",
     "text": [
      "COMET INFO: Downloading registry model 'xgboost-best-select-features', version '1.0.0', stage None from workspace 'ift-6758-projet-quipe-13'...\n",
      "COMET INFO: Unzipping model to '/stg/Storage/Code/Python/IFT6758/IFT6758-Project-Milestone-3/serving/models' ...\n",
      "COMET INFO: done!\n"
     ]
    }
   ],
   "source": [
    "# Download a Registry Model:\n",
    "api.download_registry_model(\"ift-6758-projet-quipe-13\", \"xgboost-best-select-features\", \"1.0.0\", output_path=\"../serving/models/\")\n",
    "\n",
    "xgb_model = xgb.XGBClassifier()\n",
    "xgb_model.load_model('../serving/models/XGBoost_best_select_features.pkl')"
   ]
  },
  {
   "cell_type": "code",
   "execution_count": 5,
   "id": "3c950878-b5fb-4f31-a794-e32dd75cd96e",
   "metadata": {},
   "outputs": [],
   "source": [
    "df = gc.process_query(2022020329)"
   ]
  },
  {
   "cell_type": "code",
   "execution_count": 6,
   "id": "8aaf1902-7f52-4f69-98c5-2929fc10cb17",
   "metadata": {},
   "outputs": [
    {
     "data": {
      "text/plain": [
       "array([[0.9791035 , 0.02089647],\n",
       "       [0.99502206, 0.00497795],\n",
       "       [0.95226   , 0.04774   ],\n",
       "       [0.96989024, 0.03010974],\n",
       "       [0.8701111 , 0.12988889],\n",
       "       [0.783487  , 0.21651298],\n",
       "       [0.9821188 , 0.01788121],\n",
       "       [0.8965409 , 0.10345912],\n",
       "       [0.9899009 , 0.01009914],\n",
       "       [0.9750128 , 0.02498724],\n",
       "       [0.96605086, 0.03394912],\n",
       "       [0.90285087, 0.09714916],\n",
       "       [0.91139716, 0.08860284],\n",
       "       [0.9365069 , 0.06349305],\n",
       "       [0.9854065 , 0.01459348],\n",
       "       [0.9525004 , 0.04749961],\n",
       "       [0.9791201 , 0.02087994],\n",
       "       [0.91655004, 0.08344994],\n",
       "       [0.99464476, 0.00535522],\n",
       "       [0.9928008 , 0.00719922],\n",
       "       [0.95822674, 0.04177325],\n",
       "       [0.9678315 , 0.03216853],\n",
       "       [0.9514954 , 0.04850458],\n",
       "       [0.99155474, 0.00844525],\n",
       "       [0.7102579 , 0.28974208],\n",
       "       [0.9657046 , 0.03429536],\n",
       "       [0.9593464 , 0.0406536 ],\n",
       "       [0.98723763, 0.01276239],\n",
       "       [0.98511314, 0.01488685],\n",
       "       [0.97869736, 0.02130263],\n",
       "       [0.95337886, 0.04662115],\n",
       "       [0.97837406, 0.02162592],\n",
       "       [0.97415835, 0.02584167],\n",
       "       [0.89213395, 0.10786602],\n",
       "       [0.76498306, 0.23501691],\n",
       "       [0.88057023, 0.11942976],\n",
       "       [0.92444146, 0.07555852],\n",
       "       [0.9804379 , 0.01956213],\n",
       "       [0.9788882 , 0.02111178],\n",
       "       [0.9780543 , 0.0219457 ],\n",
       "       [0.98991215, 0.01008785],\n",
       "       [0.91245764, 0.08754234],\n",
       "       [0.95184004, 0.04815997],\n",
       "       [0.9000413 , 0.0999587 ],\n",
       "       [0.97968733, 0.02031265],\n",
       "       [0.9123889 , 0.08761109],\n",
       "       [0.9591831 , 0.04081693],\n",
       "       [0.98552895, 0.01447102],\n",
       "       [0.8655765 , 0.13442348],\n",
       "       [0.83229387, 0.16770615]], dtype=float32)"
      ]
     },
     "execution_count": 6,
     "metadata": {},
     "output_type": "execute_result"
    }
   ],
   "source": [
    "xgb_model.predict_proba(df)"
   ]
  },
  {
   "cell_type": "code",
   "execution_count": null,
   "id": "b2c41122-7ab0-489a-993c-fbd6ed1d9894",
   "metadata": {},
   "outputs": [],
   "source": []
  }
 ],
 "metadata": {
  "kernelspec": {
   "display_name": "ift6758-conda-env",
   "language": "python",
   "name": "ift6758-conda-env"
  },
  "language_info": {
   "codemirror_mode": {
    "name": "ipython",
    "version": 3
   },
   "file_extension": ".py",
   "mimetype": "text/x-python",
   "name": "python",
   "nbconvert_exporter": "python",
   "pygments_lexer": "ipython3",
   "version": "3.10.6"
  }
 },
 "nbformat": 4,
 "nbformat_minor": 5
}
