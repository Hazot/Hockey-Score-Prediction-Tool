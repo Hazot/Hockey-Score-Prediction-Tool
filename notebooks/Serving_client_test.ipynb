{
 "cells": [
  {
   "cell_type": "code",
   "execution_count": 1,
   "id": "306bc2b6-5e75-40bf-8445-9fb95d0a1339",
   "metadata": {},
   "outputs": [],
   "source": [
    "import json\n",
    "import pandas as pd\n",
    "import numpy as np\n",
    "import requests\n",
    "from ift6758.client.serving_client import ServingClient\n",
    "from ift6758.client.game_client import GameClient"
   ]
  },
  {
   "cell_type": "code",
   "execution_count": 2,
   "id": "f7b9d8ed-295c-477b-9bfb-2d29ac911250",
   "metadata": {},
   "outputs": [
    {
     "data": {
      "text/plain": [
       "'Hello!\\n\\nThe purpose of this page is to know if requests work.'"
      ]
     },
     "execution_count": 2,
     "metadata": {},
     "output_type": "execute_result"
    }
   ],
   "source": [
    "try:\n",
    "    hey = requests.get(\"http://0.0.0.0:5000/hello\")\n",
    "except Exception as e:\n",
    "    print(e)\n",
    "hey.text"
   ]
  },
  {
   "cell_type": "code",
   "execution_count": 3,
   "id": "d22f0251-18f3-44f7-b420-56bdd6604539",
   "metadata": {},
   "outputs": [
    {
     "data": {
      "text/plain": [
       "['2022-12-21 16:36:34,534;INFO;Before first request - Start',\n",
       " \"2022-12-21 16:36:35,348;INFO;Default model properly loaded: {'workspace': 'ift-6758-projet-quipe-13', 'model': 'xgboost-best-all-features', 'version': '1.0.0', 'filename': 'XGBoost_best_all_features.pkl'}.\",\n",
       " '2022-12-21 16:36:35,348;INFO;Before first request - End',\n",
       " '2022-12-21 16:36:35,350;INFO;Accessed page /hello - TESTING',\n",
       " '2022-12-21 16:36:35,391;INFO;Accessed page /logs']"
      ]
     },
     "execution_count": 3,
     "metadata": {},
     "output_type": "execute_result"
    }
   ],
   "source": [
    "logs = requests.get(\"http://0.0.0.0:5000/logs\")\n",
    "logs.json()[-5:]"
   ]
  },
  {
   "cell_type": "code",
   "execution_count": 4,
   "id": "16c9169f-1dd6-4748-936a-6715a68fa67a",
   "metadata": {},
   "outputs": [],
   "source": [
    "serv = ServingClient()"
   ]
  },
  {
   "cell_type": "code",
   "execution_count": 5,
   "id": "57031648-718e-4daf-afda-ea563544544e",
   "metadata": {},
   "outputs": [],
   "source": [
    "serv_logs = serv.logs()"
   ]
  },
  {
   "cell_type": "code",
   "execution_count": 6,
   "id": "8c45f682-dee6-4e2f-92b1-e571222fae6e",
   "metadata": {},
   "outputs": [
    {
     "data": {
      "text/plain": [
       "['2022-12-21 16:33:50,370;INFO;Start of prediction request.',\n",
       " '2022-12-21 16:33:50,374;DEBUG;Input DataFrame shape:(68, 27)',\n",
       " '2022-12-21 16:33:50,392;DEBUG;Output prediction DataFrame shape:(68,)',\n",
       " '2022-12-21 16:33:57,889;INFO;Accessed page /logs',\n",
       " '2022-12-21 16:36:34,534;INFO;Before first request - Start',\n",
       " \"2022-12-21 16:36:35,348;INFO;Default model properly loaded: {'workspace': 'ift-6758-projet-quipe-13', 'model': 'xgboost-best-all-features', 'version': '1.0.0', 'filename': 'XGBoost_best_all_features.pkl'}.\",\n",
       " '2022-12-21 16:36:35,348;INFO;Before first request - End',\n",
       " '2022-12-21 16:36:35,350;INFO;Accessed page /hello - TESTING',\n",
       " '2022-12-21 16:36:35,391;INFO;Accessed page /logs',\n",
       " '2022-12-21 16:36:35,425;INFO;Accessed page /logs']"
      ]
     },
     "execution_count": 6,
     "metadata": {},
     "output_type": "execute_result"
    }
   ],
   "source": [
    "serv_logs[-10:]"
   ]
  },
  {
   "cell_type": "code",
   "execution_count": 7,
   "id": "821af2f3-b991-4290-8b24-0033f121c2ec",
   "metadata": {},
   "outputs": [],
   "source": [
    "default_model = {\n",
    "    'workspace': 'ift-6758-projet-quipe-13',\n",
    "    'model': 'xgboost-best-select-features',\n",
    "    'version': '1.0.0'\n",
    "}"
   ]
  },
  {
   "cell_type": "code",
   "execution_count": 8,
   "id": "af33e391-c463-4d02-8050-2806fa507b78",
   "metadata": {},
   "outputs": [],
   "source": [
    "gc = GameClient()"
   ]
  },
  {
   "cell_type": "code",
   "execution_count": 14,
   "id": "5a9cc016-2487-4ddd-9ffe-2ce0cb6ffeca",
   "metadata": {},
   "outputs": [],
   "source": [
    "df = gc.process_query(2022020330, model_name=default_model['model'])"
   ]
  },
  {
   "cell_type": "code",
   "execution_count": 18,
   "id": "15d3cf74-01be-4d52-8090-ed9164e1f7ff",
   "metadata": {},
   "outputs": [],
   "source": [
    "if df is not None:\n",
    "    df.shape"
   ]
  },
  {
   "cell_type": "code",
   "execution_count": 11,
   "id": "e3563c75-ff54-44d2-8e71-4e0e2025c522",
   "metadata": {},
   "outputs": [
    {
     "data": {
      "text/plain": [
       "b'\"Updated from local folder: models/XGBoost_best_select_features.pkl\"\\n'"
      ]
     },
     "execution_count": 11,
     "metadata": {},
     "output_type": "execute_result"
    }
   ],
   "source": [
    "dl = serv.download_registry_model(default_model['workspace'], default_model['model'], default_model['version'])\n",
    "dl.content"
   ]
  },
  {
   "cell_type": "code",
   "execution_count": 16,
   "id": "2b1153be-86e7-484f-8504-663e7eaf3c6c",
   "metadata": {},
   "outputs": [],
   "source": [
    "pred = serv.predict(df)"
   ]
  },
  {
   "cell_type": "code",
   "execution_count": 17,
   "id": "54c1ade2-2ae8-46c0-8906-84c35c812aaf",
   "metadata": {},
   "outputs": [],
   "source": [
    "pred"
   ]
  },
  {
   "cell_type": "code",
   "execution_count": null,
   "id": "73c5936a-4476-459b-a6d5-790da1256876",
   "metadata": {},
   "outputs": [],
   "source": []
  },
  {
   "cell_type": "code",
   "execution_count": null,
   "id": "dcd29907-d285-4008-bc5b-4dd6a5d36d66",
   "metadata": {},
   "outputs": [],
   "source": []
  }
 ],
 "metadata": {
  "kernelspec": {
   "display_name": "proj6758ift-venv",
   "language": "python",
   "name": "proj6758ift-venv"
  },
  "language_info": {
   "codemirror_mode": {
    "name": "ipython",
    "version": 3
   },
   "file_extension": ".py",
   "mimetype": "text/x-python",
   "name": "python",
   "nbconvert_exporter": "python",
   "pygments_lexer": "ipython3",
   "version": "3.9.13"
  }
 },
 "nbformat": 4,
 "nbformat_minor": 5
}
