{
 "cells": [
  {
   "cell_type": "code",
   "execution_count": 1,
   "id": "306bc2b6-5e75-40bf-8445-9fb95d0a1339",
   "metadata": {},
   "outputs": [],
   "source": [
    "import json\n",
    "import pandas as pd\n",
    "import numpy as np\n",
    "import requests\n",
    "from ift6758.client.serving_client import ServingClient\n",
    "from ift6758.client.game_client import GameClient"
   ]
  },
  {
   "cell_type": "code",
   "execution_count": 2,
   "id": "f7b9d8ed-295c-477b-9bfb-2d29ac911250",
   "metadata": {},
   "outputs": [
    {
     "data": {
      "text/plain": [
       "'Hello!\\n\\nThe purpose of this page is to know if requests work.'"
      ]
     },
     "execution_count": 2,
     "metadata": {},
     "output_type": "execute_result"
    }
   ],
   "source": [
    "try:\n",
    "    hey = requests.get(\"http://0.0.0.0:5000/hello\")\n",
    "except Exception as e:\n",
    "    print(e)\n",
    "hey.text"
   ]
  },
  {
   "cell_type": "code",
   "execution_count": 3,
   "id": "d22f0251-18f3-44f7-b420-56bdd6604539",
   "metadata": {},
   "outputs": [
    {
     "data": {
      "text/plain": [
       "['2022-12-20 01:57:18,562;INFO;Accessed page /hello - Hello!',\n",
       " '2022-12-20 01:57:50,426;INFO;Before first request - Start',\n",
       " '2022-12-20 01:57:51,001;INFO;Before first request - End',\n",
       " '2022-12-20 01:57:51,002;INFO;Accessed page /hello - Hello!',\n",
       " '2022-12-20 01:57:51,013;INFO;Accessed page /logs']"
      ]
     },
     "execution_count": 3,
     "metadata": {},
     "output_type": "execute_result"
    }
   ],
   "source": [
    "logs = requests.get(\"http://0.0.0.0:5000/logs\")\n",
    "logs.json()[-5:]"
   ]
  },
  {
   "cell_type": "code",
   "execution_count": 4,
   "id": "16c9169f-1dd6-4748-936a-6715a68fa67a",
   "metadata": {},
   "outputs": [],
   "source": [
    "serv = ServingClient()"
   ]
  },
  {
   "cell_type": "code",
   "execution_count": 5,
   "id": "57031648-718e-4daf-afda-ea563544544e",
   "metadata": {},
   "outputs": [],
   "source": [
    "serv_logs = serv.logs()"
   ]
  },
  {
   "cell_type": "code",
   "execution_count": 6,
   "id": "8c45f682-dee6-4e2f-92b1-e571222fae6e",
   "metadata": {},
   "outputs": [
    {
     "data": {
      "text/plain": [
       "['2022-12-20 01:04:32,373;DEBUG;Prediction DataFrame shape:(57,)',\n",
       " '2022-12-20 01:04:32,373;INFO;Prediction end',\n",
       " '2022-12-20 01:57:14,958;INFO;Before first request - Start',\n",
       " '2022-12-20 01:57:15,613;INFO;Before first request - End',\n",
       " '2022-12-20 01:57:18,562;INFO;Accessed page /hello - Hello!',\n",
       " '2022-12-20 01:57:50,426;INFO;Before first request - Start',\n",
       " '2022-12-20 01:57:51,001;INFO;Before first request - End',\n",
       " '2022-12-20 01:57:51,002;INFO;Accessed page /hello - Hello!',\n",
       " '2022-12-20 01:57:51,013;INFO;Accessed page /logs',\n",
       " '2022-12-20 01:57:51,038;INFO;Accessed page /logs']"
      ]
     },
     "execution_count": 6,
     "metadata": {},
     "output_type": "execute_result"
    }
   ],
   "source": [
    "serv_logs[-10:]"
   ]
  },
  {
   "cell_type": "code",
   "execution_count": 7,
   "id": "821af2f3-b991-4290-8b24-0033f121c2ec",
   "metadata": {},
   "outputs": [],
   "source": [
    "default_model = {\n",
    "    'workspace': 'ift-6758-projet-quipe-13',\n",
    "    'model': 'xgboost-best-select-features',\n",
    "    'version': '1.0.0'\n",
    "}"
   ]
  },
  {
   "cell_type": "code",
   "execution_count": 37,
   "id": "af33e391-c463-4d02-8050-2806fa507b78",
   "metadata": {},
   "outputs": [],
   "source": [
    "gc = GameClient()"
   ]
  },
  {
   "cell_type": "code",
   "execution_count": 63,
   "id": "5a9cc016-2487-4ddd-9ffe-2ce0cb6ffeca",
   "metadata": {},
   "outputs": [],
   "source": [
    "df = gc.process_query(2022020502, model_name=default_model['model'])"
   ]
  },
  {
   "cell_type": "code",
   "execution_count": 64,
   "id": "15d3cf74-01be-4d52-8090-ed9164e1f7ff",
   "metadata": {},
   "outputs": [
    {
     "data": {
      "text/plain": [
       "(59, 29)"
      ]
     },
     "execution_count": 64,
     "metadata": {},
     "output_type": "execute_result"
    }
   ],
   "source": [
    "df.shape"
   ]
  },
  {
   "cell_type": "code",
   "execution_count": 65,
   "id": "d074b413-8c0a-414d-ae48-1cbffd92c80d",
   "metadata": {},
   "outputs": [
    {
     "data": {
      "text/html": [
       "<div>\n",
       "<style scoped>\n",
       "    .dataframe tbody tr th:only-of-type {\n",
       "        vertical-align: middle;\n",
       "    }\n",
       "\n",
       "    .dataframe tbody tr th {\n",
       "        vertical-align: top;\n",
       "    }\n",
       "\n",
       "    .dataframe thead th {\n",
       "        text-align: right;\n",
       "    }\n",
       "</style>\n",
       "<table border=\"1\" class=\"dataframe\">\n",
       "  <thead>\n",
       "    <tr style=\"text-align: right;\">\n",
       "      <th></th>\n",
       "      <th>team</th>\n",
       "      <th>isGoal</th>\n",
       "      <th>periodTimeSec</th>\n",
       "      <th>period</th>\n",
       "      <th>coordinate_x</th>\n",
       "      <th>coordinate_y</th>\n",
       "      <th>distanceFromGoal</th>\n",
       "      <th>shotAngle</th>\n",
       "      <th>lastEventCoord_y</th>\n",
       "      <th>timeDifference</th>\n",
       "      <th>...</th>\n",
       "      <th>Wrap-around</th>\n",
       "      <th>Wrist Shot</th>\n",
       "      <th>BLOCKED_SHOT</th>\n",
       "      <th>FACEOFF</th>\n",
       "      <th>GIVEAWAY</th>\n",
       "      <th>GOAL</th>\n",
       "      <th>HIT</th>\n",
       "      <th>MISSED_SHOT</th>\n",
       "      <th>SHOT</th>\n",
       "      <th>TAKEAWAY</th>\n",
       "    </tr>\n",
       "  </thead>\n",
       "  <tbody>\n",
       "    <tr>\n",
       "      <th>0</th>\n",
       "      <td>DAL</td>\n",
       "      <td>0</td>\n",
       "      <td>17.0</td>\n",
       "      <td>1</td>\n",
       "      <td>-75.0</td>\n",
       "      <td>34.0</td>\n",
       "      <td>36.769553</td>\n",
       "      <td>-1.180189</td>\n",
       "      <td>0.0</td>\n",
       "      <td>17.0</td>\n",
       "      <td>...</td>\n",
       "      <td>0.0</td>\n",
       "      <td>0.0</td>\n",
       "      <td>0.0</td>\n",
       "      <td>1.0</td>\n",
       "      <td>0.0</td>\n",
       "      <td>0</td>\n",
       "      <td>0.0</td>\n",
       "      <td>0.0</td>\n",
       "      <td>0.0</td>\n",
       "      <td>0.0</td>\n",
       "    </tr>\n",
       "    <tr>\n",
       "      <th>1</th>\n",
       "      <td>CBJ</td>\n",
       "      <td>0</td>\n",
       "      <td>100.0</td>\n",
       "      <td>1</td>\n",
       "      <td>15.0</td>\n",
       "      <td>3.0</td>\n",
       "      <td>74.060786</td>\n",
       "      <td>0.040518</td>\n",
       "      <td>-3.0</td>\n",
       "      <td>15.0</td>\n",
       "      <td>...</td>\n",
       "      <td>0.0</td>\n",
       "      <td>0.0</td>\n",
       "      <td>1.0</td>\n",
       "      <td>0.0</td>\n",
       "      <td>0.0</td>\n",
       "      <td>0</td>\n",
       "      <td>0.0</td>\n",
       "      <td>0.0</td>\n",
       "      <td>0.0</td>\n",
       "      <td>0.0</td>\n",
       "    </tr>\n",
       "    <tr>\n",
       "      <th>2</th>\n",
       "      <td>DAL</td>\n",
       "      <td>0</td>\n",
       "      <td>190.0</td>\n",
       "      <td>1</td>\n",
       "      <td>-81.0</td>\n",
       "      <td>16.0</td>\n",
       "      <td>17.888544</td>\n",
       "      <td>-1.107149</td>\n",
       "      <td>-22.0</td>\n",
       "      <td>33.0</td>\n",
       "      <td>...</td>\n",
       "      <td>0.0</td>\n",
       "      <td>0.0</td>\n",
       "      <td>0.0</td>\n",
       "      <td>1.0</td>\n",
       "      <td>0.0</td>\n",
       "      <td>0</td>\n",
       "      <td>0.0</td>\n",
       "      <td>0.0</td>\n",
       "      <td>0.0</td>\n",
       "      <td>0.0</td>\n",
       "    </tr>\n",
       "    <tr>\n",
       "      <th>3</th>\n",
       "      <td>CBJ</td>\n",
       "      <td>0</td>\n",
       "      <td>270.0</td>\n",
       "      <td>1</td>\n",
       "      <td>47.0</td>\n",
       "      <td>20.0</td>\n",
       "      <td>46.518813</td>\n",
       "      <td>0.444419</td>\n",
       "      <td>22.0</td>\n",
       "      <td>48.0</td>\n",
       "      <td>...</td>\n",
       "      <td>0.0</td>\n",
       "      <td>1.0</td>\n",
       "      <td>0.0</td>\n",
       "      <td>1.0</td>\n",
       "      <td>0.0</td>\n",
       "      <td>0</td>\n",
       "      <td>0.0</td>\n",
       "      <td>0.0</td>\n",
       "      <td>0.0</td>\n",
       "      <td>0.0</td>\n",
       "    </tr>\n",
       "    <tr>\n",
       "      <th>4</th>\n",
       "      <td>CBJ</td>\n",
       "      <td>0</td>\n",
       "      <td>276.0</td>\n",
       "      <td>1</td>\n",
       "      <td>40.0</td>\n",
       "      <td>28.0</td>\n",
       "      <td>56.435804</td>\n",
       "      <td>0.519146</td>\n",
       "      <td>20.0</td>\n",
       "      <td>6.0</td>\n",
       "      <td>...</td>\n",
       "      <td>0.0</td>\n",
       "      <td>0.0</td>\n",
       "      <td>0.0</td>\n",
       "      <td>0.0</td>\n",
       "      <td>0.0</td>\n",
       "      <td>0</td>\n",
       "      <td>0.0</td>\n",
       "      <td>0.0</td>\n",
       "      <td>1.0</td>\n",
       "      <td>0.0</td>\n",
       "    </tr>\n",
       "  </tbody>\n",
       "</table>\n",
       "<p>5 rows × 29 columns</p>\n",
       "</div>"
      ],
      "text/plain": [
       "  team  isGoal  periodTimeSec  period  coordinate_x  coordinate_y  \\\n",
       "0  DAL       0           17.0       1         -75.0          34.0   \n",
       "1  CBJ       0          100.0       1          15.0           3.0   \n",
       "2  DAL       0          190.0       1         -81.0          16.0   \n",
       "3  CBJ       0          270.0       1          47.0          20.0   \n",
       "4  CBJ       0          276.0       1          40.0          28.0   \n",
       "\n",
       "   distanceFromGoal  shotAngle  lastEventCoord_y  timeDifference  ...  \\\n",
       "0         36.769553  -1.180189               0.0            17.0  ...   \n",
       "1         74.060786   0.040518              -3.0            15.0  ...   \n",
       "2         17.888544  -1.107149             -22.0            33.0  ...   \n",
       "3         46.518813   0.444419              22.0            48.0  ...   \n",
       "4         56.435804   0.519146              20.0             6.0  ...   \n",
       "\n",
       "   Wrap-around  Wrist Shot  BLOCKED_SHOT  FACEOFF  GIVEAWAY  GOAL  HIT  \\\n",
       "0          0.0         0.0           0.0      1.0       0.0     0  0.0   \n",
       "1          0.0         0.0           1.0      0.0       0.0     0  0.0   \n",
       "2          0.0         0.0           0.0      1.0       0.0     0  0.0   \n",
       "3          0.0         1.0           0.0      1.0       0.0     0  0.0   \n",
       "4          0.0         0.0           0.0      0.0       0.0     0  0.0   \n",
       "\n",
       "   MISSED_SHOT  SHOT  TAKEAWAY  \n",
       "0          0.0   0.0       0.0  \n",
       "1          0.0   0.0       0.0  \n",
       "2          0.0   0.0       0.0  \n",
       "3          0.0   0.0       0.0  \n",
       "4          0.0   1.0       0.0  \n",
       "\n",
       "[5 rows x 29 columns]"
      ]
     },
     "execution_count": 65,
     "metadata": {},
     "output_type": "execute_result"
    }
   ],
   "source": [
    "df.head()"
   ]
  },
  {
   "cell_type": "code",
   "execution_count": 66,
   "id": "9265f355-588b-4013-9007-e514320e2938",
   "metadata": {},
   "outputs": [
    {
     "data": {
      "text/plain": [
       "team  isGoal\n",
       "CBJ   0         26\n",
       "DAL   0         30\n",
       "      1          3\n",
       "dtype: int64"
      ]
     },
     "execution_count": 66,
     "metadata": {},
     "output_type": "execute_result"
    }
   ],
   "source": [
    "df.groupby(['team']).value_counts(['isGoal'])"
   ]
  },
  {
   "cell_type": "code",
   "execution_count": null,
   "id": "92b40ff6-d0f5-4da9-a327-5ca17db18b11",
   "metadata": {},
   "outputs": [],
   "source": []
  },
  {
   "cell_type": "code",
   "execution_count": 20,
   "id": "e3563c75-ff54-44d2-8e71-4e0e2025c522",
   "metadata": {},
   "outputs": [],
   "source": [
    "if df is not None:\n",
    "    df.shape"
   ]
  },
  {
   "cell_type": "code",
   "execution_count": 11,
   "id": "e3563c75-ff54-44d2-8e71-4e0e2025c522",
   "metadata": {},
   "outputs": [
    {
     "data": {
      "text/plain": [
       "b'\"Updated from local folder: models/XGBoost_best_select_features.pkl\"\\n'"
      ]
     },
     "execution_count": 11,
     "metadata": {},
     "output_type": "execute_result"
    }
   ],
   "source": [
    "dl = serv.download_registry_model(default_model['workspace'], default_model['model'], default_model['version'])\n",
    "dl.content"
   ]
  },
  {
   "cell_type": "code",
   "execution_count": 16,
   "id": "2b1153be-86e7-484f-8504-663e7eaf3c6c",
   "metadata": {},
   "outputs": [],
   "source": [
    "pred = serv.predict(df)"
   ]
  },
  {
   "cell_type": "code",
   "execution_count": 17,
   "id": "54c1ade2-2ae8-46c0-8906-84c35c812aaf",
   "metadata": {},
   "outputs": [],
   "source": [
    "pred"
   ]
  },
  {
   "cell_type": "code",
   "execution_count": null,
   "id": "73c5936a-4476-459b-a6d5-790da1256876",
   "metadata": {},
   "outputs": [],
   "source": []
  },
  {
   "cell_type": "code",
   "execution_count": null,
   "id": "dcd29907-d285-4008-bc5b-4dd6a5d36d66",
   "metadata": {},
   "outputs": [],
   "source": []
  }
 ],
 "metadata": {
  "kernelspec": {
   "display_name": "proj6758ift-venv",
   "language": "python",
   "name": "proj6758ift-venv"
  },
  "language_info": {
   "codemirror_mode": {
    "name": "ipython",
    "version": 3
   },
   "file_extension": ".py",
   "mimetype": "text/x-python",
   "name": "python",
   "nbconvert_exporter": "python",
   "pygments_lexer": "ipython3",
   "version": "3.9.13"
  }
 },
 "nbformat": 4,
 "nbformat_minor": 5
}
