{
 "cells": [
  {
   "cell_type": "code",
   "execution_count": 1,
   "id": "306bc2b6-5e75-40bf-8445-9fb95d0a1339",
   "metadata": {},
   "outputs": [],
   "source": [
    "import json\n",
    "import pandas as pd\n",
    "import numpy as np\n",
    "import requests\n",
    "from ift6758.client.serving_client import ServingClient\n",
    "from ift6758.client.game_client import GameClient"
   ]
  },
  {
   "cell_type": "code",
   "execution_count": 4,
   "id": "f7b9d8ed-295c-477b-9bfb-2d29ac911250",
   "metadata": {},
   "outputs": [
    {
     "data": {
      "text/plain": [
       "'Hello!'"
      ]
     },
     "execution_count": 4,
     "metadata": {},
     "output_type": "execute_result"
    }
   ],
   "source": [
    "try:\n",
    "    hey = requests.get(\"http://0.0.0.0:5000/hello\")\n",
    "except Exception as e:\n",
    "    print(e)\n",
    "hey.text"
   ]
  },
  {
   "cell_type": "code",
   "execution_count": 5,
   "id": "d22f0251-18f3-44f7-b420-56bdd6604539",
   "metadata": {},
   "outputs": [
    {
     "data": {
      "text/plain": [
       "['2022-12-19 16:36:05,907;INFO;Before first request - End',\n",
       " '2022-12-19 16:36:05,908;INFO;Accessed page /hello - Hello!',\n",
       " '2022-12-19 16:36:05,920;INFO;Accessed page /logs',\n",
       " '2022-12-19 16:36:13,519;INFO;Accessed page /hello - Hello!',\n",
       " '2022-12-19 16:36:13,663;INFO;Accessed page /logs']"
      ]
     },
     "execution_count": 5,
     "metadata": {},
     "output_type": "execute_result"
    }
   ],
   "source": [
    "logs = requests.get(\"http://0.0.0.0:5000/logs\")\n",
    "logs.json()[-5:]"
   ]
  },
  {
   "cell_type": "code",
   "execution_count": 6,
   "id": "16c9169f-1dd6-4748-936a-6715a68fa67a",
   "metadata": {},
   "outputs": [],
   "source": [
    "serv = ServingClient()"
   ]
  },
  {
   "cell_type": "code",
   "execution_count": null,
   "id": "1f6626ef-e8f9-49eb-9749-26f676b3d096",
   "metadata": {},
   "outputs": [],
   "source": []
  },
  {
   "cell_type": "code",
   "execution_count": 7,
   "id": "57031648-718e-4daf-afda-ea563544544e",
   "metadata": {},
   "outputs": [],
   "source": [
    "serv_logs = serv.logs()"
   ]
  },
  {
   "cell_type": "code",
   "execution_count": 9,
   "id": "8c45f682-dee6-4e2f-92b1-e571222fae6e",
   "metadata": {},
   "outputs": [
    {
     "data": {
      "text/plain": [
       "['2022-12-19 16:08:03,110;INFO;Accessed page /logs',\n",
       " '2022-12-19 16:08:03,710;INFO;Accessed page /logs',\n",
       " '2022-12-19 16:23:44,568;INFO;Accessed page /logs',\n",
       " '2022-12-19 16:36:05,205;INFO;Before first request - Start',\n",
       " '2022-12-19 16:36:05,907;INFO;Before first request - End',\n",
       " '2022-12-19 16:36:05,908;INFO;Accessed page /hello - Hello!',\n",
       " '2022-12-19 16:36:05,920;INFO;Accessed page /logs',\n",
       " '2022-12-19 16:36:13,519;INFO;Accessed page /hello - Hello!',\n",
       " '2022-12-19 16:36:13,663;INFO;Accessed page /logs',\n",
       " '2022-12-19 16:36:14,999;INFO;Accessed page /logs']"
      ]
     },
     "execution_count": 9,
     "metadata": {},
     "output_type": "execute_result"
    }
   ],
   "source": [
    "serv_logs[-10:]"
   ]
  },
  {
   "cell_type": "code",
   "execution_count": null,
   "id": "821af2f3-b991-4290-8b24-0033f121c2ec",
   "metadata": {},
   "outputs": [],
   "source": [
    "default_model = {\n",
    "    'workspace': 'ift-6758-projet-quipe-13',\n",
    "    'model': 'xgboost-best-select-features',\n",
    "    'version': '1.0.0'\n",
    "}"
   ]
  },
  {
   "cell_type": "code",
   "execution_count": 10,
   "id": "af33e391-c463-4d02-8050-2806fa507b78",
   "metadata": {},
   "outputs": [],
   "source": [
    "gc = GameClient()"
   ]
  },
  {
   "cell_type": "code",
   "execution_count": 18,
   "id": "5a9cc016-2487-4ddd-9ffe-2ce0cb6ffeca",
   "metadata": {},
   "outputs": [],
   "source": [
    "df = gc.process_query(2022020329, model_name=default_model['model'])"
   ]
  },
  {
   "cell_type": "code",
   "execution_count": 19,
   "id": "15d3cf74-01be-4d52-8090-ed9164e1f7ff",
   "metadata": {},
   "outputs": [
    {
     "data": {
      "text/plain": [
       "(50, 28)"
      ]
     },
     "execution_count": 19,
     "metadata": {},
     "output_type": "execute_result"
    }
   ],
   "source": [
    "df.shape"
   ]
  },
  {
   "cell_type": "code",
   "execution_count": 20,
   "id": "e3563c75-ff54-44d2-8e71-4e0e2025c522",
   "metadata": {},
   "outputs": [],
   "source": [
    "dl = serv.download_registry_model(default_model['workspace'], default_model['model'], default_model['version'])"
   ]
  },
  {
   "cell_type": "code",
   "execution_count": 21,
   "id": "5bd4535f-a82d-4e98-a819-c308bb1d4634",
   "metadata": {},
   "outputs": [
    {
     "data": {
      "text/plain": [
       "b'\"Updated from local folder.\"\\n'"
      ]
     },
     "execution_count": 21,
     "metadata": {},
     "output_type": "execute_result"
    }
   ],
   "source": [
    "dl.content"
   ]
  },
  {
   "cell_type": "code",
   "execution_count": 22,
   "id": "ae4255f6-bbc2-465f-b197-89bebd51d7f7",
   "metadata": {},
   "outputs": [
    {
     "data": {
      "text/plain": [
       "'Hello!'"
      ]
     },
     "execution_count": 22,
     "metadata": {},
     "output_type": "execute_result"
    }
   ],
   "source": [
    "hey.text"
   ]
  },
  {
   "cell_type": "code",
   "execution_count": 23,
   "id": "2b1153be-86e7-484f-8504-663e7eaf3c6c",
   "metadata": {},
   "outputs": [],
   "source": [
    "pred = serv.predict(df)"
   ]
  },
  {
   "cell_type": "code",
   "execution_count": 24,
   "id": "54c1ade2-2ae8-46c0-8906-84c35c812aaf",
   "metadata": {},
   "outputs": [
    {
     "data": {
      "text/html": [
       "<div>\n",
       "<style scoped>\n",
       "    .dataframe tbody tr th:only-of-type {\n",
       "        vertical-align: middle;\n",
       "    }\n",
       "\n",
       "    .dataframe tbody tr th {\n",
       "        vertical-align: top;\n",
       "    }\n",
       "\n",
       "    .dataframe thead th {\n",
       "        text-align: right;\n",
       "    }\n",
       "</style>\n",
       "<table border=\"1\" class=\"dataframe\">\n",
       "  <thead>\n",
       "    <tr style=\"text-align: right;\">\n",
       "      <th></th>\n",
       "      <th>0</th>\n",
       "    </tr>\n",
       "  </thead>\n",
       "  <tbody>\n",
       "    <tr>\n",
       "      <th>0</th>\n",
       "      <td>0.037188</td>\n",
       "    </tr>\n",
       "    <tr>\n",
       "      <th>1</th>\n",
       "      <td>0.014190</td>\n",
       "    </tr>\n",
       "    <tr>\n",
       "      <th>2</th>\n",
       "      <td>0.147822</td>\n",
       "    </tr>\n",
       "    <tr>\n",
       "      <th>3</th>\n",
       "      <td>0.058728</td>\n",
       "    </tr>\n",
       "    <tr>\n",
       "      <th>4</th>\n",
       "      <td>0.129865</td>\n",
       "    </tr>\n",
       "    <tr>\n",
       "      <th>5</th>\n",
       "      <td>0.223055</td>\n",
       "    </tr>\n",
       "    <tr>\n",
       "      <th>6</th>\n",
       "      <td>0.030267</td>\n",
       "    </tr>\n",
       "    <tr>\n",
       "      <th>7</th>\n",
       "      <td>0.117068</td>\n",
       "    </tr>\n",
       "    <tr>\n",
       "      <th>8</th>\n",
       "      <td>0.018655</td>\n",
       "    </tr>\n",
       "    <tr>\n",
       "      <th>9</th>\n",
       "      <td>0.078949</td>\n",
       "    </tr>\n",
       "    <tr>\n",
       "      <th>10</th>\n",
       "      <td>0.015185</td>\n",
       "    </tr>\n",
       "    <tr>\n",
       "      <th>11</th>\n",
       "      <td>0.117109</td>\n",
       "    </tr>\n",
       "    <tr>\n",
       "      <th>12</th>\n",
       "      <td>0.327515</td>\n",
       "    </tr>\n",
       "    <tr>\n",
       "      <th>13</th>\n",
       "      <td>0.066581</td>\n",
       "    </tr>\n",
       "    <tr>\n",
       "      <th>14</th>\n",
       "      <td>0.012801</td>\n",
       "    </tr>\n",
       "    <tr>\n",
       "      <th>15</th>\n",
       "      <td>0.057028</td>\n",
       "    </tr>\n",
       "    <tr>\n",
       "      <th>16</th>\n",
       "      <td>0.017844</td>\n",
       "    </tr>\n",
       "    <tr>\n",
       "      <th>17</th>\n",
       "      <td>0.244081</td>\n",
       "    </tr>\n",
       "    <tr>\n",
       "      <th>18</th>\n",
       "      <td>0.007258</td>\n",
       "    </tr>\n",
       "    <tr>\n",
       "      <th>19</th>\n",
       "      <td>0.011829</td>\n",
       "    </tr>\n",
       "    <tr>\n",
       "      <th>20</th>\n",
       "      <td>0.107241</td>\n",
       "    </tr>\n",
       "    <tr>\n",
       "      <th>21</th>\n",
       "      <td>0.022048</td>\n",
       "    </tr>\n",
       "    <tr>\n",
       "      <th>22</th>\n",
       "      <td>0.065867</td>\n",
       "    </tr>\n",
       "    <tr>\n",
       "      <th>23</th>\n",
       "      <td>0.021737</td>\n",
       "    </tr>\n",
       "    <tr>\n",
       "      <th>24</th>\n",
       "      <td>0.182695</td>\n",
       "    </tr>\n",
       "    <tr>\n",
       "      <th>25</th>\n",
       "      <td>0.033153</td>\n",
       "    </tr>\n",
       "    <tr>\n",
       "      <th>26</th>\n",
       "      <td>0.042206</td>\n",
       "    </tr>\n",
       "    <tr>\n",
       "      <th>27</th>\n",
       "      <td>0.015487</td>\n",
       "    </tr>\n",
       "    <tr>\n",
       "      <th>28</th>\n",
       "      <td>0.019068</td>\n",
       "    </tr>\n",
       "    <tr>\n",
       "      <th>29</th>\n",
       "      <td>0.020479</td>\n",
       "    </tr>\n",
       "    <tr>\n",
       "      <th>30</th>\n",
       "      <td>0.067124</td>\n",
       "    </tr>\n",
       "    <tr>\n",
       "      <th>31</th>\n",
       "      <td>0.040130</td>\n",
       "    </tr>\n",
       "    <tr>\n",
       "      <th>32</th>\n",
       "      <td>0.029758</td>\n",
       "    </tr>\n",
       "    <tr>\n",
       "      <th>33</th>\n",
       "      <td>0.112975</td>\n",
       "    </tr>\n",
       "    <tr>\n",
       "      <th>34</th>\n",
       "      <td>0.100494</td>\n",
       "    </tr>\n",
       "    <tr>\n",
       "      <th>35</th>\n",
       "      <td>0.261120</td>\n",
       "    </tr>\n",
       "    <tr>\n",
       "      <th>36</th>\n",
       "      <td>0.075343</td>\n",
       "    </tr>\n",
       "    <tr>\n",
       "      <th>37</th>\n",
       "      <td>0.053742</td>\n",
       "    </tr>\n",
       "    <tr>\n",
       "      <th>38</th>\n",
       "      <td>0.055491</td>\n",
       "    </tr>\n",
       "    <tr>\n",
       "      <th>39</th>\n",
       "      <td>0.039549</td>\n",
       "    </tr>\n",
       "    <tr>\n",
       "      <th>40</th>\n",
       "      <td>0.015934</td>\n",
       "    </tr>\n",
       "    <tr>\n",
       "      <th>41</th>\n",
       "      <td>0.058298</td>\n",
       "    </tr>\n",
       "    <tr>\n",
       "      <th>42</th>\n",
       "      <td>0.058904</td>\n",
       "    </tr>\n",
       "    <tr>\n",
       "      <th>43</th>\n",
       "      <td>0.109154</td>\n",
       "    </tr>\n",
       "    <tr>\n",
       "      <th>44</th>\n",
       "      <td>0.051946</td>\n",
       "    </tr>\n",
       "    <tr>\n",
       "      <th>45</th>\n",
       "      <td>0.194986</td>\n",
       "    </tr>\n",
       "    <tr>\n",
       "      <th>46</th>\n",
       "      <td>0.035994</td>\n",
       "    </tr>\n",
       "    <tr>\n",
       "      <th>47</th>\n",
       "      <td>0.015196</td>\n",
       "    </tr>\n",
       "    <tr>\n",
       "      <th>48</th>\n",
       "      <td>0.102827</td>\n",
       "    </tr>\n",
       "    <tr>\n",
       "      <th>49</th>\n",
       "      <td>0.405882</td>\n",
       "    </tr>\n",
       "  </tbody>\n",
       "</table>\n",
       "</div>"
      ],
      "text/plain": [
       "           0\n",
       "0   0.037188\n",
       "1   0.014190\n",
       "2   0.147822\n",
       "3   0.058728\n",
       "4   0.129865\n",
       "5   0.223055\n",
       "6   0.030267\n",
       "7   0.117068\n",
       "8   0.018655\n",
       "9   0.078949\n",
       "10  0.015185\n",
       "11  0.117109\n",
       "12  0.327515\n",
       "13  0.066581\n",
       "14  0.012801\n",
       "15  0.057028\n",
       "16  0.017844\n",
       "17  0.244081\n",
       "18  0.007258\n",
       "19  0.011829\n",
       "20  0.107241\n",
       "21  0.022048\n",
       "22  0.065867\n",
       "23  0.021737\n",
       "24  0.182695\n",
       "25  0.033153\n",
       "26  0.042206\n",
       "27  0.015487\n",
       "28  0.019068\n",
       "29  0.020479\n",
       "30  0.067124\n",
       "31  0.040130\n",
       "32  0.029758\n",
       "33  0.112975\n",
       "34  0.100494\n",
       "35  0.261120\n",
       "36  0.075343\n",
       "37  0.053742\n",
       "38  0.055491\n",
       "39  0.039549\n",
       "40  0.015934\n",
       "41  0.058298\n",
       "42  0.058904\n",
       "43  0.109154\n",
       "44  0.051946\n",
       "45  0.194986\n",
       "46  0.035994\n",
       "47  0.015196\n",
       "48  0.102827\n",
       "49  0.405882"
      ]
     },
     "execution_count": 24,
     "metadata": {},
     "output_type": "execute_result"
    }
   ],
   "source": [
    "pred"
   ]
  },
  {
   "cell_type": "code",
   "execution_count": null,
   "id": "73c5936a-4476-459b-a6d5-790da1256876",
   "metadata": {},
   "outputs": [],
   "source": []
  }
 ],
 "metadata": {
  "kernelspec": {
   "display_name": "IFT6758 - Projet (3.9.14)",
   "language": "python",
   "name": "projet6758ift-venv"
  },
  "language_info": {
   "codemirror_mode": {
    "name": "ipython",
    "version": 3
   },
   "file_extension": ".py",
   "mimetype": "text/x-python",
   "name": "python",
   "nbconvert_exporter": "python",
   "pygments_lexer": "ipython3",
   "version": "3.9.14"
  }
 },
 "nbformat": 4,
 "nbformat_minor": 5
}
