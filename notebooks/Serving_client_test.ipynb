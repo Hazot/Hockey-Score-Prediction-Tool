{
 "cells": [
  {
   "cell_type": "code",
   "execution_count": 1,
   "id": "306bc2b6-5e75-40bf-8445-9fb95d0a1339",
   "metadata": {},
   "outputs": [],
   "source": [
    "import json\n",
    "import pandas as pd\n",
    "import numpy as np\n",
    "import requests\n",
    "from ift6758.client.serving_client import ServingClient\n",
    "from ift6758.client.game_client import GameClient"
   ]
  },
  {
   "cell_type": "code",
   "execution_count": 2,
   "id": "f7b9d8ed-295c-477b-9bfb-2d29ac911250",
   "metadata": {},
   "outputs": [
    {
     "data": {
      "text/plain": [
       "'Hello!'"
      ]
     },
     "execution_count": 2,
     "metadata": {},
     "output_type": "execute_result"
    }
   ],
   "source": [
    "try:\n",
    "    hey = requests.get(\"http://0.0.0.0:5000/hello\")\n",
    "except Exception as e:\n",
    "    print(e)\n",
    "hey.text"
   ]
  },
  {
   "cell_type": "code",
   "execution_count": 3,
   "id": "d22f0251-18f3-44f7-b420-56bdd6604539",
   "metadata": {},
   "outputs": [
    {
     "data": {
      "text/plain": [
       "['2022-12-19 04:30:10,824;INFO;Input DataFrame shape:(5266, 29)',\n",
       " '2022-12-19 04:30:10,838;INFO;Prediction DataFrame shape:(5266,)',\n",
       " '2022-12-19 04:30:10,838;INFO;Prediction end',\n",
       " '2022-12-19 04:30:15,525;INFO;Accessed page /hello - Hello!',\n",
       " '2022-12-19 04:30:15,543;INFO;Accessed page /logs']"
      ]
     },
     "execution_count": 3,
     "metadata": {},
     "output_type": "execute_result"
    }
   ],
   "source": [
    "logs = requests.get(\"http://0.0.0.0:5000/logs\")\n",
    "logs.json()[-5:]"
   ]
  },
  {
   "cell_type": "code",
   "execution_count": 4,
   "id": "16c9169f-1dd6-4748-936a-6715a68fa67a",
   "metadata": {},
   "outputs": [],
   "source": [
    "serv = ServingClient()"
   ]
  },
  {
   "cell_type": "code",
   "execution_count": null,
   "id": "1f6626ef-e8f9-49eb-9749-26f676b3d096",
   "metadata": {},
   "outputs": [],
   "source": []
  },
  {
   "cell_type": "code",
   "execution_count": 5,
   "id": "57031648-718e-4daf-afda-ea563544544e",
   "metadata": {},
   "outputs": [],
   "source": [
    "serv_logs = serv.logs()"
   ]
  },
  {
   "cell_type": "code",
   "execution_count": 6,
   "id": "8c45f682-dee6-4e2f-92b1-e571222fae6e",
   "metadata": {},
   "outputs": [
    {
     "data": {
      "text/plain": [
       "[\"2022-12-19 04:30:08,727;INFO;{'workspace': 'ift-6758-projet-quipe-13', 'model': 'xgboost-best-all-features', 'version': '1.0.0'}\",\n",
       " '2022-12-19 04:30:08,740;INFO;Model updated without download from: models/XGBoost_best_all_features.pkl',\n",
       " '2022-12-19 04:30:08,740;INFO;Updated from local folder.',\n",
       " '2022-12-19 04:30:10,743;INFO;Prediction start',\n",
       " '2022-12-19 04:30:10,824;INFO;Input DataFrame shape:(5266, 29)',\n",
       " '2022-12-19 04:30:10,838;INFO;Prediction DataFrame shape:(5266,)',\n",
       " '2022-12-19 04:30:10,838;INFO;Prediction end',\n",
       " '2022-12-19 04:30:15,525;INFO;Accessed page /hello - Hello!',\n",
       " '2022-12-19 04:30:15,543;INFO;Accessed page /logs',\n",
       " '2022-12-19 04:30:15,750;INFO;Accessed page /logs']"
      ]
     },
     "execution_count": 6,
     "metadata": {},
     "output_type": "execute_result"
    }
   ],
   "source": [
    "serv_logs.json()[-10:]"
   ]
  },
  {
   "cell_type": "code",
   "execution_count": 7,
   "id": "af33e391-c463-4d02-8050-2806fa507b78",
   "metadata": {},
   "outputs": [],
   "source": [
    "gc = GameClient()"
   ]
  },
  {
   "cell_type": "code",
   "execution_count": 8,
   "id": "5a9cc016-2487-4ddd-9ffe-2ce0cb6ffeca",
   "metadata": {},
   "outputs": [],
   "source": [
    "df = gc.process_query(2022020329)"
   ]
  },
  {
   "cell_type": "code",
   "execution_count": 9,
   "id": "15d3cf74-01be-4d52-8090-ed9164e1f7ff",
   "metadata": {},
   "outputs": [
    {
     "data": {
      "text/plain": [
       "(50, 27)"
      ]
     },
     "execution_count": 9,
     "metadata": {},
     "output_type": "execute_result"
    }
   ],
   "source": [
    "df.shape"
   ]
  },
  {
   "cell_type": "code",
   "execution_count": 10,
   "id": "f3fdbed2-84cd-4f40-b21c-e9d1db25f5d5",
   "metadata": {},
   "outputs": [],
   "source": [
    "default_model = {\n",
    "    'workspace': 'ift-6758-projet-quipe-13',\n",
    "    'model': 'xgboost-best-select-features',\n",
    "    'version': '1.0.0'\n",
    "}"
   ]
  },
  {
   "cell_type": "code",
   "execution_count": 11,
   "id": "e3563c75-ff54-44d2-8e71-4e0e2025c522",
   "metadata": {},
   "outputs": [],
   "source": [
    "dl = serv.download_registry_model(default_model['workspace'], default_model['model'], default_model['version'])"
   ]
  },
  {
   "cell_type": "code",
   "execution_count": 12,
   "id": "5bd4535f-a82d-4e98-a819-c308bb1d4634",
   "metadata": {},
   "outputs": [
    {
     "data": {
      "text/plain": [
       "b'\"Updated from local folder.\"\\n'"
      ]
     },
     "execution_count": 12,
     "metadata": {},
     "output_type": "execute_result"
    }
   ],
   "source": [
    "dl.content"
   ]
  },
  {
   "cell_type": "code",
   "execution_count": 13,
   "id": "ae4255f6-bbc2-465f-b197-89bebd51d7f7",
   "metadata": {},
   "outputs": [
    {
     "data": {
      "text/plain": [
       "'Hello!'"
      ]
     },
     "execution_count": 13,
     "metadata": {},
     "output_type": "execute_result"
    }
   ],
   "source": [
    "hey.text"
   ]
  },
  {
   "cell_type": "code",
   "execution_count": 14,
   "id": "2b1153be-86e7-484f-8504-663e7eaf3c6c",
   "metadata": {},
   "outputs": [],
   "source": [
    "pred = serv.predict(df)"
   ]
  },
  {
   "cell_type": "code",
   "execution_count": 15,
   "id": "54c1ade2-2ae8-46c0-8906-84c35c812aaf",
   "metadata": {},
   "outputs": [
    {
     "data": {
      "text/html": [
       "<div>\n",
       "<style scoped>\n",
       "    .dataframe tbody tr th:only-of-type {\n",
       "        vertical-align: middle;\n",
       "    }\n",
       "\n",
       "    .dataframe tbody tr th {\n",
       "        vertical-align: top;\n",
       "    }\n",
       "\n",
       "    .dataframe thead th {\n",
       "        text-align: right;\n",
       "    }\n",
       "</style>\n",
       "<table border=\"1\" class=\"dataframe\">\n",
       "  <thead>\n",
       "    <tr style=\"text-align: right;\">\n",
       "      <th></th>\n",
       "      <th>0</th>\n",
       "    </tr>\n",
       "  </thead>\n",
       "  <tbody>\n",
       "    <tr>\n",
       "      <th>0</th>\n",
       "      <td>0.020896</td>\n",
       "    </tr>\n",
       "    <tr>\n",
       "      <th>1</th>\n",
       "      <td>0.004978</td>\n",
       "    </tr>\n",
       "    <tr>\n",
       "      <th>2</th>\n",
       "      <td>0.047740</td>\n",
       "    </tr>\n",
       "    <tr>\n",
       "      <th>3</th>\n",
       "      <td>0.030110</td>\n",
       "    </tr>\n",
       "    <tr>\n",
       "      <th>4</th>\n",
       "      <td>0.129889</td>\n",
       "    </tr>\n",
       "    <tr>\n",
       "      <th>5</th>\n",
       "      <td>0.216513</td>\n",
       "    </tr>\n",
       "    <tr>\n",
       "      <th>6</th>\n",
       "      <td>0.017881</td>\n",
       "    </tr>\n",
       "    <tr>\n",
       "      <th>7</th>\n",
       "      <td>0.103459</td>\n",
       "    </tr>\n",
       "    <tr>\n",
       "      <th>8</th>\n",
       "      <td>0.010099</td>\n",
       "    </tr>\n",
       "    <tr>\n",
       "      <th>9</th>\n",
       "      <td>0.024987</td>\n",
       "    </tr>\n",
       "    <tr>\n",
       "      <th>10</th>\n",
       "      <td>0.033949</td>\n",
       "    </tr>\n",
       "    <tr>\n",
       "      <th>11</th>\n",
       "      <td>0.097149</td>\n",
       "    </tr>\n",
       "    <tr>\n",
       "      <th>12</th>\n",
       "      <td>0.088603</td>\n",
       "    </tr>\n",
       "    <tr>\n",
       "      <th>13</th>\n",
       "      <td>0.063493</td>\n",
       "    </tr>\n",
       "    <tr>\n",
       "      <th>14</th>\n",
       "      <td>0.014593</td>\n",
       "    </tr>\n",
       "    <tr>\n",
       "      <th>15</th>\n",
       "      <td>0.047500</td>\n",
       "    </tr>\n",
       "    <tr>\n",
       "      <th>16</th>\n",
       "      <td>0.020880</td>\n",
       "    </tr>\n",
       "    <tr>\n",
       "      <th>17</th>\n",
       "      <td>0.083450</td>\n",
       "    </tr>\n",
       "    <tr>\n",
       "      <th>18</th>\n",
       "      <td>0.005355</td>\n",
       "    </tr>\n",
       "    <tr>\n",
       "      <th>19</th>\n",
       "      <td>0.007199</td>\n",
       "    </tr>\n",
       "    <tr>\n",
       "      <th>20</th>\n",
       "      <td>0.041773</td>\n",
       "    </tr>\n",
       "    <tr>\n",
       "      <th>21</th>\n",
       "      <td>0.032169</td>\n",
       "    </tr>\n",
       "    <tr>\n",
       "      <th>22</th>\n",
       "      <td>0.048505</td>\n",
       "    </tr>\n",
       "    <tr>\n",
       "      <th>23</th>\n",
       "      <td>0.008445</td>\n",
       "    </tr>\n",
       "    <tr>\n",
       "      <th>24</th>\n",
       "      <td>0.289742</td>\n",
       "    </tr>\n",
       "    <tr>\n",
       "      <th>25</th>\n",
       "      <td>0.034295</td>\n",
       "    </tr>\n",
       "    <tr>\n",
       "      <th>26</th>\n",
       "      <td>0.040654</td>\n",
       "    </tr>\n",
       "    <tr>\n",
       "      <th>27</th>\n",
       "      <td>0.012762</td>\n",
       "    </tr>\n",
       "    <tr>\n",
       "      <th>28</th>\n",
       "      <td>0.014887</td>\n",
       "    </tr>\n",
       "    <tr>\n",
       "      <th>29</th>\n",
       "      <td>0.021303</td>\n",
       "    </tr>\n",
       "    <tr>\n",
       "      <th>30</th>\n",
       "      <td>0.046621</td>\n",
       "    </tr>\n",
       "    <tr>\n",
       "      <th>31</th>\n",
       "      <td>0.021626</td>\n",
       "    </tr>\n",
       "    <tr>\n",
       "      <th>32</th>\n",
       "      <td>0.025842</td>\n",
       "    </tr>\n",
       "    <tr>\n",
       "      <th>33</th>\n",
       "      <td>0.107866</td>\n",
       "    </tr>\n",
       "    <tr>\n",
       "      <th>34</th>\n",
       "      <td>0.235017</td>\n",
       "    </tr>\n",
       "    <tr>\n",
       "      <th>35</th>\n",
       "      <td>0.119430</td>\n",
       "    </tr>\n",
       "    <tr>\n",
       "      <th>36</th>\n",
       "      <td>0.075559</td>\n",
       "    </tr>\n",
       "    <tr>\n",
       "      <th>37</th>\n",
       "      <td>0.019562</td>\n",
       "    </tr>\n",
       "    <tr>\n",
       "      <th>38</th>\n",
       "      <td>0.021112</td>\n",
       "    </tr>\n",
       "    <tr>\n",
       "      <th>39</th>\n",
       "      <td>0.021946</td>\n",
       "    </tr>\n",
       "    <tr>\n",
       "      <th>40</th>\n",
       "      <td>0.010088</td>\n",
       "    </tr>\n",
       "    <tr>\n",
       "      <th>41</th>\n",
       "      <td>0.087542</td>\n",
       "    </tr>\n",
       "    <tr>\n",
       "      <th>42</th>\n",
       "      <td>0.048160</td>\n",
       "    </tr>\n",
       "    <tr>\n",
       "      <th>43</th>\n",
       "      <td>0.099959</td>\n",
       "    </tr>\n",
       "    <tr>\n",
       "      <th>44</th>\n",
       "      <td>0.020313</td>\n",
       "    </tr>\n",
       "    <tr>\n",
       "      <th>45</th>\n",
       "      <td>0.087611</td>\n",
       "    </tr>\n",
       "    <tr>\n",
       "      <th>46</th>\n",
       "      <td>0.040817</td>\n",
       "    </tr>\n",
       "    <tr>\n",
       "      <th>47</th>\n",
       "      <td>0.014471</td>\n",
       "    </tr>\n",
       "    <tr>\n",
       "      <th>48</th>\n",
       "      <td>0.134423</td>\n",
       "    </tr>\n",
       "    <tr>\n",
       "      <th>49</th>\n",
       "      <td>0.167706</td>\n",
       "    </tr>\n",
       "  </tbody>\n",
       "</table>\n",
       "</div>"
      ],
      "text/plain": [
       "           0\n",
       "0   0.020896\n",
       "1   0.004978\n",
       "2   0.047740\n",
       "3   0.030110\n",
       "4   0.129889\n",
       "5   0.216513\n",
       "6   0.017881\n",
       "7   0.103459\n",
       "8   0.010099\n",
       "9   0.024987\n",
       "10  0.033949\n",
       "11  0.097149\n",
       "12  0.088603\n",
       "13  0.063493\n",
       "14  0.014593\n",
       "15  0.047500\n",
       "16  0.020880\n",
       "17  0.083450\n",
       "18  0.005355\n",
       "19  0.007199\n",
       "20  0.041773\n",
       "21  0.032169\n",
       "22  0.048505\n",
       "23  0.008445\n",
       "24  0.289742\n",
       "25  0.034295\n",
       "26  0.040654\n",
       "27  0.012762\n",
       "28  0.014887\n",
       "29  0.021303\n",
       "30  0.046621\n",
       "31  0.021626\n",
       "32  0.025842\n",
       "33  0.107866\n",
       "34  0.235017\n",
       "35  0.119430\n",
       "36  0.075559\n",
       "37  0.019562\n",
       "38  0.021112\n",
       "39  0.021946\n",
       "40  0.010088\n",
       "41  0.087542\n",
       "42  0.048160\n",
       "43  0.099959\n",
       "44  0.020313\n",
       "45  0.087611\n",
       "46  0.040817\n",
       "47  0.014471\n",
       "48  0.134423\n",
       "49  0.167706"
      ]
     },
     "execution_count": 15,
     "metadata": {},
     "output_type": "execute_result"
    }
   ],
   "source": [
    "pred"
   ]
  },
  {
   "cell_type": "code",
   "execution_count": null,
   "id": "73c5936a-4476-459b-a6d5-790da1256876",
   "metadata": {},
   "outputs": [],
   "source": []
  }
 ],
 "metadata": {
  "kernelspec": {
   "display_name": "IFT6758 - Projet (3.9.14)",
   "language": "python",
   "name": "projet6758ift-venv"
  },
  "language_info": {
   "codemirror_mode": {
    "name": "ipython",
    "version": 3
   },
   "file_extension": ".py",
   "mimetype": "text/x-python",
   "name": "python",
   "nbconvert_exporter": "python",
   "pygments_lexer": "ipython3",
   "version": "3.9.14"
  }
 },
 "nbformat": 4,
 "nbformat_minor": 5
}
