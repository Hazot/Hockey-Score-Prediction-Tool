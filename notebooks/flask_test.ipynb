{
 "cells": [
  {
   "cell_type": "code",
   "execution_count": 30,
   "metadata": {},
   "outputs": [],
   "source": [
    "import requests\n",
    "import json\n",
    "import pandas as pd\n",
    "import numpy as np\n",
    "import ift6758\n",
    "from pathlib import Path"
   ]
  },
  {
   "cell_type": "code",
   "execution_count": 31,
   "metadata": {},
   "outputs": [],
   "source": [
    "import os\n",
    "from pathlib import Path\n",
    "import logging\n",
    "from flask import Flask, jsonify, request, abort, g\n",
    "import xgboost\n",
    "import requests\n",
    "import pandas as pd\n",
    "from comet_ml import API\n",
    "import joblib\n",
    "\n",
    "import sklearn\n",
    "import ift6758"
   ]
  },
  {
   "cell_type": "code",
   "execution_count": 54,
   "metadata": {},
   "outputs": [],
   "source": [
    "hey = requests.get(\"http://0.0.0.0:5000/hello\")"
   ]
  },
  {
   "cell_type": "code",
   "execution_count": 55,
   "metadata": {},
   "outputs": [
    {
     "data": {
      "text/plain": [
       "'Hello!'"
      ]
     },
     "execution_count": 55,
     "metadata": {},
     "output_type": "execute_result"
    }
   ],
   "source": [
    "hey.text"
   ]
  },
  {
   "cell_type": "code",
   "execution_count": 71,
   "metadata": {},
   "outputs": [
    {
     "data": {
      "text/plain": [
       "['2022-12-17 22:50:24,486;INFO;Comet ML API parameters are the following:',\n",
       " \"2022-12-17 22:50:24,486;INFO;{'workspace': 'ift-6758-projet-quipe-13', 'model': 'xgboost-best-all-features', 'version': '1.0.0'}\",\n",
       " '2022-12-17 22:50:24,512;INFO;Model successfully downloaded to: models/XGBoost_best_all_features.pkl',\n",
       " '2022-12-17 22:50:24,512;INFO;Updated from CometML api.',\n",
       " '2022-12-17 22:50:27,129;INFO;Accessed page /logs']"
      ]
     },
     "execution_count": 71,
     "metadata": {},
     "output_type": "execute_result"
    }
   ],
   "source": [
    "logs = requests.get(\"http://0.0.0.0:5000/logs\")\n",
    "logs.json()[-5:]"
   ]
  },
  {
   "cell_type": "code",
   "execution_count": 68,
   "metadata": {},
   "outputs": [],
   "source": [
    "default_model = {\n",
    "    'workspace': 'ift-6758-projet-quipe-13',\n",
    "    'model': 'xgboost-best-all-features',\n",
    "    'version': '1.0.0'\n",
    "}"
   ]
  },
  {
   "cell_type": "code",
   "execution_count": 69,
   "metadata": {},
   "outputs": [],
   "source": [
    "model = requests.post(\"http://0.0.0.0:5000/download_registry_model\", json=default_model)"
   ]
  },
  {
   "cell_type": "code",
   "execution_count": 70,
   "metadata": {},
   "outputs": [
    {
     "data": {
      "text/plain": [
       "'\"Updated from CometML api.\"\\n'"
      ]
     },
     "execution_count": 70,
     "metadata": {},
     "output_type": "execute_result"
    }
   ],
   "source": [
    "model.text"
   ]
  },
  {
   "cell_type": "code",
   "execution_count": 50,
   "metadata": {},
   "outputs": [],
   "source": [
    "df = pd.DataFrame(np.random.randn(5266, 29))"
   ]
  },
  {
   "cell_type": "code",
   "execution_count": 51,
   "metadata": {},
   "outputs": [],
   "source": [
    "pred = requests.post(\"http://0.0.0.0:5000/predict\", json=df.to_json(orient='split'))"
   ]
  },
  {
   "cell_type": "code",
   "execution_count": 52,
   "metadata": {},
   "outputs": [],
   "source": [
    "xd = pd.read_json(pred.json(), orient='split')"
   ]
  },
  {
   "cell_type": "code",
   "execution_count": 53,
   "metadata": {},
   "outputs": [
    {
     "data": {
      "text/html": [
       "<div>\n",
       "<style scoped>\n",
       "    .dataframe tbody tr th:only-of-type {\n",
       "        vertical-align: middle;\n",
       "    }\n",
       "\n",
       "    .dataframe tbody tr th {\n",
       "        vertical-align: top;\n",
       "    }\n",
       "\n",
       "    .dataframe thead th {\n",
       "        text-align: right;\n",
       "    }\n",
       "</style>\n",
       "<table border=\"1\" class=\"dataframe\">\n",
       "  <thead>\n",
       "    <tr style=\"text-align: right;\">\n",
       "      <th></th>\n",
       "      <th>0</th>\n",
       "      <th>1</th>\n",
       "    </tr>\n",
       "  </thead>\n",
       "  <tbody>\n",
       "    <tr>\n",
       "      <th>0</th>\n",
       "      <td>0.554832</td>\n",
       "      <td>0.445168</td>\n",
       "    </tr>\n",
       "    <tr>\n",
       "      <th>1</th>\n",
       "      <td>0.696578</td>\n",
       "      <td>0.303422</td>\n",
       "    </tr>\n",
       "    <tr>\n",
       "      <th>2</th>\n",
       "      <td>0.737244</td>\n",
       "      <td>0.262756</td>\n",
       "    </tr>\n",
       "    <tr>\n",
       "      <th>3</th>\n",
       "      <td>0.632156</td>\n",
       "      <td>0.367844</td>\n",
       "    </tr>\n",
       "    <tr>\n",
       "      <th>4</th>\n",
       "      <td>0.743604</td>\n",
       "      <td>0.256396</td>\n",
       "    </tr>\n",
       "    <tr>\n",
       "      <th>...</th>\n",
       "      <td>...</td>\n",
       "      <td>...</td>\n",
       "    </tr>\n",
       "    <tr>\n",
       "      <th>5261</th>\n",
       "      <td>0.811166</td>\n",
       "      <td>0.188834</td>\n",
       "    </tr>\n",
       "    <tr>\n",
       "      <th>5262</th>\n",
       "      <td>0.656732</td>\n",
       "      <td>0.343268</td>\n",
       "    </tr>\n",
       "    <tr>\n",
       "      <th>5263</th>\n",
       "      <td>0.756554</td>\n",
       "      <td>0.243446</td>\n",
       "    </tr>\n",
       "    <tr>\n",
       "      <th>5264</th>\n",
       "      <td>0.740335</td>\n",
       "      <td>0.259665</td>\n",
       "    </tr>\n",
       "    <tr>\n",
       "      <th>5265</th>\n",
       "      <td>0.873401</td>\n",
       "      <td>0.126599</td>\n",
       "    </tr>\n",
       "  </tbody>\n",
       "</table>\n",
       "<p>5266 rows × 2 columns</p>\n",
       "</div>"
      ],
      "text/plain": [
       "             0         1\n",
       "0     0.554832  0.445168\n",
       "1     0.696578  0.303422\n",
       "2     0.737244  0.262756\n",
       "3     0.632156  0.367844\n",
       "4     0.743604  0.256396\n",
       "...        ...       ...\n",
       "5261  0.811166  0.188834\n",
       "5262  0.656732  0.343268\n",
       "5263  0.756554  0.243446\n",
       "5264  0.740335  0.259665\n",
       "5265  0.873401  0.126599\n",
       "\n",
       "[5266 rows x 2 columns]"
      ]
     },
     "execution_count": 53,
     "metadata": {},
     "output_type": "execute_result"
    }
   ],
   "source": [
    "xd"
   ]
  },
  {
   "cell_type": "code",
   "execution_count": null,
   "metadata": {},
   "outputs": [],
   "source": []
  }
 ],
 "metadata": {
  "kernelspec": {
   "display_name": "proj6758ift-venv",
   "language": "python",
   "name": "proj6758ift-venv"
  },
  "language_info": {
   "codemirror_mode": {
    "name": "ipython",
    "version": 3
   },
   "file_extension": ".py",
   "mimetype": "text/x-python",
   "name": "python",
   "nbconvert_exporter": "python",
   "pygments_lexer": "ipython3",
   "version": "3.9.13"
  },
  "vscode": {
   "interpreter": {
    "hash": "03f63f85d34a86951fdd09f7b3b0285069732ac202bbeee5bca858bc6be7fe2b"
   }
  }
 },
 "nbformat": 4,
 "nbformat_minor": 2
}