{
 "cells": [
  {
   "cell_type": "code",
   "execution_count": 1,
   "metadata": {},
   "outputs": [],
   "source": [
    "import requests\n",
    "import json\n",
    "import pandas as pd\n",
    "import numpy as np\n",
    "import ift6758\n",
    "from pathlib import Path"
   ]
  },
  {
   "cell_type": "code",
   "execution_count": 2,
   "metadata": {},
   "outputs": [],
   "source": [
    "import os\n",
    "from pathlib import Path\n",
    "import logging\n",
    "from flask import Flask, jsonify, request, abort, g\n",
    "import xgboost\n",
    "import requests\n",
    "import pandas as pd\n",
    "from comet_ml import API\n",
    "import joblib\n",
    "\n",
    "import sklearn\n",
    "import ift6758"
   ]
  },
  {
   "cell_type": "code",
   "execution_count": 3,
   "metadata": {},
   "outputs": [],
   "source": [
    "try:\n",
    "    hey = requests.get(\"http://0.0.0.0:5000/hello\")\n",
    "except Exception as e:\n",
    "    print(e)"
   ]
  },
  {
   "cell_type": "code",
   "execution_count": 4,
   "metadata": {},
   "outputs": [
    {
     "data": {
      "text/plain": [
       "'Hello!'"
      ]
     },
     "execution_count": 4,
     "metadata": {},
     "output_type": "execute_result"
    }
   ],
   "source": [
    "hey.text"
   ]
  },
  {
   "cell_type": "code",
   "execution_count": 5,
   "metadata": {},
   "outputs": [
    {
     "data": {
      "text/plain": [
       "['2022-12-18 23:24:40,101;INFO;Prediction end',\n",
       " '2022-12-19 04:30:08,078;INFO;Before first request - Start',\n",
       " '2022-12-19 04:30:08,675;INFO;Before first request - End',\n",
       " '2022-12-19 04:30:08,677;INFO;Accessed page /hello - Hello!',\n",
       " '2022-12-19 04:30:08,701;INFO;Accessed page /logs']"
      ]
     },
     "execution_count": 5,
     "metadata": {},
     "output_type": "execute_result"
    }
   ],
   "source": [
    "logs = requests.get(\"http://0.0.0.0:5000/logs\")\n",
    "logs.json()[-5:]"
   ]
  },
  {
   "cell_type": "code",
   "execution_count": 6,
   "metadata": {},
   "outputs": [],
   "source": [
    "default_model = {\n",
    "    'workspace': 'ift-6758-projet-quipe-13',\n",
    "    'model': 'xgboost-best-all-features',\n",
    "    'version': '1.0.0'\n",
    "}"
   ]
  },
  {
   "cell_type": "code",
   "execution_count": 7,
   "metadata": {},
   "outputs": [],
   "source": [
    "model = requests.post(\"http://0.0.0.0:5000/download_registry_model\", json=default_model)"
   ]
  },
  {
   "cell_type": "code",
   "execution_count": 8,
   "metadata": {},
   "outputs": [
    {
     "data": {
      "text/plain": [
       "'\"Updated from local folder.\"\\n'"
      ]
     },
     "execution_count": 8,
     "metadata": {},
     "output_type": "execute_result"
    }
   ],
   "source": [
    "model.text"
   ]
  },
  {
   "cell_type": "code",
   "execution_count": 9,
   "metadata": {},
   "outputs": [
    {
     "data": {
      "text/plain": [
       "<Response [200]>"
      ]
     },
     "execution_count": 9,
     "metadata": {},
     "output_type": "execute_result"
    }
   ],
   "source": [
    "model"
   ]
  },
  {
   "cell_type": "code",
   "execution_count": 10,
   "metadata": {},
   "outputs": [],
   "source": [
    "df = pd.DataFrame(np.random.randn(5266, 29))"
   ]
  },
  {
   "cell_type": "code",
   "execution_count": 11,
   "metadata": {},
   "outputs": [],
   "source": [
    "X_dict = {}\n",
    "X_values = df.values.tolist()\n",
    "X_dict['values'] = X_values"
   ]
  },
  {
   "cell_type": "code",
   "execution_count": 12,
   "metadata": {},
   "outputs": [
    {
     "data": {
      "text/plain": [
       "'values'"
      ]
     },
     "execution_count": 12,
     "metadata": {},
     "output_type": "execute_result"
    }
   ],
   "source": [
    "list(X_dict.keys())[0]"
   ]
  },
  {
   "cell_type": "code",
   "execution_count": 13,
   "metadata": {},
   "outputs": [],
   "source": [
    "pred = requests.post(\"http://0.0.0.0:5000/predict\", json=X_dict)"
   ]
  },
  {
   "cell_type": "code",
   "execution_count": 14,
   "metadata": {},
   "outputs": [
    {
     "data": {
      "text/plain": [
       "[0.14881837368011475,\n",
       " 0.36324939131736755,\n",
       " 0.1754634976387024,\n",
       " 0.19361110031604767,\n",
       " 0.342043399810791,\n",
       " 0.13273927569389343,\n",
       " 0.45606961846351624,\n",
       " 0.2758273184299469,\n",
       " 0.39434486627578735,\n",
       " 0.40354111790657043]"
      ]
     },
     "execution_count": 14,
     "metadata": {},
     "output_type": "execute_result"
    }
   ],
   "source": [
    "pred.json()[:10]"
   ]
  },
  {
   "cell_type": "code",
   "execution_count": null,
   "metadata": {},
   "outputs": [],
   "source": []
  },
  {
   "cell_type": "code",
   "execution_count": 15,
   "metadata": {},
   "outputs": [],
   "source": [
    "df = pd.DataFrame(np.random.randn(5266, 27))"
   ]
  },
  {
   "cell_type": "code",
   "execution_count": 16,
   "metadata": {},
   "outputs": [],
   "source": [
    "X_dict = {}\n",
    "X_values = df.values.tolist()\n",
    "X_dict['values'] = X_values"
   ]
  },
  {
   "cell_type": "code",
   "execution_count": 17,
   "metadata": {},
   "outputs": [],
   "source": [
    "pred = requests.post(\"http://0.0.0.0:5000/predict\", json=X_dict)"
   ]
  },
  {
   "cell_type": "code",
   "execution_count": 18,
   "metadata": {},
   "outputs": [
    {
     "data": {
      "text/plain": [
       "[0.2581057846546173,\n",
       " 0.2821357250213623,\n",
       " 0.15087231993675232,\n",
       " 0.13990314304828644,\n",
       " 0.31382086873054504,\n",
       " 0.19145913422107697,\n",
       " 0.2737134099006653,\n",
       " 0.16317468881607056,\n",
       " 0.28011423349380493,\n",
       " 0.5015616416931152]"
      ]
     },
     "execution_count": 18,
     "metadata": {},
     "output_type": "execute_result"
    }
   ],
   "source": [
    "pred.json()[:10]"
   ]
  },
  {
   "cell_type": "code",
   "execution_count": 19,
   "metadata": {},
   "outputs": [
    {
     "data": {
      "text/html": [
       "<div>\n",
       "<style scoped>\n",
       "    .dataframe tbody tr th:only-of-type {\n",
       "        vertical-align: middle;\n",
       "    }\n",
       "\n",
       "    .dataframe tbody tr th {\n",
       "        vertical-align: top;\n",
       "    }\n",
       "\n",
       "    .dataframe thead th {\n",
       "        text-align: right;\n",
       "    }\n",
       "</style>\n",
       "<table border=\"1\" class=\"dataframe\">\n",
       "  <thead>\n",
       "    <tr style=\"text-align: right;\">\n",
       "      <th></th>\n",
       "      <th>0</th>\n",
       "      <th>1</th>\n",
       "      <th>2</th>\n",
       "      <th>3</th>\n",
       "      <th>4</th>\n",
       "      <th>5</th>\n",
       "      <th>6</th>\n",
       "      <th>7</th>\n",
       "      <th>8</th>\n",
       "      <th>9</th>\n",
       "      <th>...</th>\n",
       "      <th>17</th>\n",
       "      <th>18</th>\n",
       "      <th>19</th>\n",
       "      <th>20</th>\n",
       "      <th>21</th>\n",
       "      <th>22</th>\n",
       "      <th>23</th>\n",
       "      <th>24</th>\n",
       "      <th>25</th>\n",
       "      <th>26</th>\n",
       "    </tr>\n",
       "  </thead>\n",
       "  <tbody>\n",
       "    <tr>\n",
       "      <th>0</th>\n",
       "      <td>0.314441</td>\n",
       "      <td>-0.128778</td>\n",
       "      <td>-0.770124</td>\n",
       "      <td>-1.348072</td>\n",
       "      <td>0.607685</td>\n",
       "      <td>-0.210639</td>\n",
       "      <td>-0.544075</td>\n",
       "      <td>-0.365823</td>\n",
       "      <td>-0.369326</td>\n",
       "      <td>-0.168643</td>\n",
       "      <td>...</td>\n",
       "      <td>-0.314148</td>\n",
       "      <td>-0.135038</td>\n",
       "      <td>0.954199</td>\n",
       "      <td>-1.141506</td>\n",
       "      <td>1.018330</td>\n",
       "      <td>-0.758034</td>\n",
       "      <td>-0.251249</td>\n",
       "      <td>-0.260766</td>\n",
       "      <td>0.989570</td>\n",
       "      <td>-0.538327</td>\n",
       "    </tr>\n",
       "    <tr>\n",
       "      <th>1</th>\n",
       "      <td>-1.555199</td>\n",
       "      <td>0.479039</td>\n",
       "      <td>-0.496223</td>\n",
       "      <td>0.432008</td>\n",
       "      <td>0.156626</td>\n",
       "      <td>0.005134</td>\n",
       "      <td>0.945148</td>\n",
       "      <td>-0.556190</td>\n",
       "      <td>0.236113</td>\n",
       "      <td>1.222855</td>\n",
       "      <td>...</td>\n",
       "      <td>1.597688</td>\n",
       "      <td>-0.491842</td>\n",
       "      <td>1.472823</td>\n",
       "      <td>-0.473942</td>\n",
       "      <td>0.187930</td>\n",
       "      <td>0.218855</td>\n",
       "      <td>0.695292</td>\n",
       "      <td>-0.752812</td>\n",
       "      <td>-0.011255</td>\n",
       "      <td>1.222044</td>\n",
       "    </tr>\n",
       "    <tr>\n",
       "      <th>2</th>\n",
       "      <td>0.674996</td>\n",
       "      <td>-0.354226</td>\n",
       "      <td>0.529731</td>\n",
       "      <td>-0.311066</td>\n",
       "      <td>1.087795</td>\n",
       "      <td>-0.596102</td>\n",
       "      <td>-1.133463</td>\n",
       "      <td>-0.087565</td>\n",
       "      <td>0.791539</td>\n",
       "      <td>0.265699</td>\n",
       "      <td>...</td>\n",
       "      <td>1.353883</td>\n",
       "      <td>0.322616</td>\n",
       "      <td>-0.779567</td>\n",
       "      <td>-0.324279</td>\n",
       "      <td>-1.252193</td>\n",
       "      <td>0.533928</td>\n",
       "      <td>-0.393589</td>\n",
       "      <td>-0.152217</td>\n",
       "      <td>-0.607616</td>\n",
       "      <td>-0.064996</td>\n",
       "    </tr>\n",
       "    <tr>\n",
       "      <th>3</th>\n",
       "      <td>-0.971353</td>\n",
       "      <td>-0.529260</td>\n",
       "      <td>-0.612571</td>\n",
       "      <td>0.910791</td>\n",
       "      <td>-0.097262</td>\n",
       "      <td>-2.016272</td>\n",
       "      <td>-0.062618</td>\n",
       "      <td>1.441894</td>\n",
       "      <td>-1.013383</td>\n",
       "      <td>0.105240</td>\n",
       "      <td>...</td>\n",
       "      <td>0.270339</td>\n",
       "      <td>1.661559</td>\n",
       "      <td>-1.431808</td>\n",
       "      <td>-1.743928</td>\n",
       "      <td>0.098326</td>\n",
       "      <td>-0.039271</td>\n",
       "      <td>0.513137</td>\n",
       "      <td>0.495054</td>\n",
       "      <td>0.457317</td>\n",
       "      <td>-0.369797</td>\n",
       "    </tr>\n",
       "    <tr>\n",
       "      <th>4</th>\n",
       "      <td>-0.525574</td>\n",
       "      <td>-0.492881</td>\n",
       "      <td>-0.618570</td>\n",
       "      <td>1.778219</td>\n",
       "      <td>0.909482</td>\n",
       "      <td>-0.868474</td>\n",
       "      <td>-0.753441</td>\n",
       "      <td>0.005551</td>\n",
       "      <td>-1.497077</td>\n",
       "      <td>1.009799</td>\n",
       "      <td>...</td>\n",
       "      <td>-0.302135</td>\n",
       "      <td>-0.770287</td>\n",
       "      <td>-0.059553</td>\n",
       "      <td>-0.605963</td>\n",
       "      <td>-0.674328</td>\n",
       "      <td>-0.998330</td>\n",
       "      <td>0.141025</td>\n",
       "      <td>-1.570002</td>\n",
       "      <td>0.195214</td>\n",
       "      <td>0.539553</td>\n",
       "    </tr>\n",
       "    <tr>\n",
       "      <th>...</th>\n",
       "      <td>...</td>\n",
       "      <td>...</td>\n",
       "      <td>...</td>\n",
       "      <td>...</td>\n",
       "      <td>...</td>\n",
       "      <td>...</td>\n",
       "      <td>...</td>\n",
       "      <td>...</td>\n",
       "      <td>...</td>\n",
       "      <td>...</td>\n",
       "      <td>...</td>\n",
       "      <td>...</td>\n",
       "      <td>...</td>\n",
       "      <td>...</td>\n",
       "      <td>...</td>\n",
       "      <td>...</td>\n",
       "      <td>...</td>\n",
       "      <td>...</td>\n",
       "      <td>...</td>\n",
       "      <td>...</td>\n",
       "      <td>...</td>\n",
       "    </tr>\n",
       "    <tr>\n",
       "      <th>5261</th>\n",
       "      <td>-0.284139</td>\n",
       "      <td>-1.651831</td>\n",
       "      <td>-1.054342</td>\n",
       "      <td>0.572656</td>\n",
       "      <td>-1.378107</td>\n",
       "      <td>0.821235</td>\n",
       "      <td>-0.070877</td>\n",
       "      <td>0.001593</td>\n",
       "      <td>0.922347</td>\n",
       "      <td>-1.964685</td>\n",
       "      <td>...</td>\n",
       "      <td>-0.254746</td>\n",
       "      <td>-0.532356</td>\n",
       "      <td>-1.234900</td>\n",
       "      <td>0.995977</td>\n",
       "      <td>1.059190</td>\n",
       "      <td>-1.073477</td>\n",
       "      <td>2.049936</td>\n",
       "      <td>0.891027</td>\n",
       "      <td>2.397933</td>\n",
       "      <td>-1.294907</td>\n",
       "    </tr>\n",
       "    <tr>\n",
       "      <th>5262</th>\n",
       "      <td>-0.643911</td>\n",
       "      <td>0.612951</td>\n",
       "      <td>-0.194824</td>\n",
       "      <td>0.767918</td>\n",
       "      <td>0.726322</td>\n",
       "      <td>-1.225412</td>\n",
       "      <td>-0.060520</td>\n",
       "      <td>-1.396778</td>\n",
       "      <td>1.653956</td>\n",
       "      <td>-0.668348</td>\n",
       "      <td>...</td>\n",
       "      <td>-0.152009</td>\n",
       "      <td>-1.093858</td>\n",
       "      <td>1.300815</td>\n",
       "      <td>0.424382</td>\n",
       "      <td>0.990389</td>\n",
       "      <td>-1.152223</td>\n",
       "      <td>-0.186793</td>\n",
       "      <td>0.133913</td>\n",
       "      <td>-0.068834</td>\n",
       "      <td>0.064354</td>\n",
       "    </tr>\n",
       "    <tr>\n",
       "      <th>5263</th>\n",
       "      <td>-0.282999</td>\n",
       "      <td>-0.607342</td>\n",
       "      <td>0.933987</td>\n",
       "      <td>1.339848</td>\n",
       "      <td>-0.627867</td>\n",
       "      <td>0.767836</td>\n",
       "      <td>-0.062189</td>\n",
       "      <td>-1.479858</td>\n",
       "      <td>-1.722287</td>\n",
       "      <td>-1.062303</td>\n",
       "      <td>...</td>\n",
       "      <td>-1.404846</td>\n",
       "      <td>-0.677992</td>\n",
       "      <td>0.660994</td>\n",
       "      <td>0.426980</td>\n",
       "      <td>-1.550055</td>\n",
       "      <td>-1.076564</td>\n",
       "      <td>-0.348365</td>\n",
       "      <td>1.193535</td>\n",
       "      <td>-1.158135</td>\n",
       "      <td>0.421281</td>\n",
       "    </tr>\n",
       "    <tr>\n",
       "      <th>5264</th>\n",
       "      <td>-0.800487</td>\n",
       "      <td>0.643641</td>\n",
       "      <td>-0.574944</td>\n",
       "      <td>0.121939</td>\n",
       "      <td>1.810656</td>\n",
       "      <td>0.252993</td>\n",
       "      <td>-1.486773</td>\n",
       "      <td>-0.081766</td>\n",
       "      <td>0.807490</td>\n",
       "      <td>0.658046</td>\n",
       "      <td>...</td>\n",
       "      <td>-1.121907</td>\n",
       "      <td>0.913671</td>\n",
       "      <td>-1.620122</td>\n",
       "      <td>-1.281266</td>\n",
       "      <td>1.251629</td>\n",
       "      <td>-0.321120</td>\n",
       "      <td>-1.272483</td>\n",
       "      <td>0.491101</td>\n",
       "      <td>-0.370764</td>\n",
       "      <td>-0.656110</td>\n",
       "    </tr>\n",
       "    <tr>\n",
       "      <th>5265</th>\n",
       "      <td>-0.742080</td>\n",
       "      <td>1.138770</td>\n",
       "      <td>0.867347</td>\n",
       "      <td>-0.746669</td>\n",
       "      <td>0.942612</td>\n",
       "      <td>-0.603509</td>\n",
       "      <td>1.735867</td>\n",
       "      <td>1.092937</td>\n",
       "      <td>-0.922815</td>\n",
       "      <td>0.042063</td>\n",
       "      <td>...</td>\n",
       "      <td>2.754113</td>\n",
       "      <td>-0.521413</td>\n",
       "      <td>0.545102</td>\n",
       "      <td>-0.650915</td>\n",
       "      <td>0.076278</td>\n",
       "      <td>-0.965741</td>\n",
       "      <td>-0.763525</td>\n",
       "      <td>-0.333957</td>\n",
       "      <td>-0.004835</td>\n",
       "      <td>0.990156</td>\n",
       "    </tr>\n",
       "  </tbody>\n",
       "</table>\n",
       "<p>5266 rows × 27 columns</p>\n",
       "</div>"
      ],
      "text/plain": [
       "            0         1         2         3         4         5         6   \\\n",
       "0     0.314441 -0.128778 -0.770124 -1.348072  0.607685 -0.210639 -0.544075   \n",
       "1    -1.555199  0.479039 -0.496223  0.432008  0.156626  0.005134  0.945148   \n",
       "2     0.674996 -0.354226  0.529731 -0.311066  1.087795 -0.596102 -1.133463   \n",
       "3    -0.971353 -0.529260 -0.612571  0.910791 -0.097262 -2.016272 -0.062618   \n",
       "4    -0.525574 -0.492881 -0.618570  1.778219  0.909482 -0.868474 -0.753441   \n",
       "...        ...       ...       ...       ...       ...       ...       ...   \n",
       "5261 -0.284139 -1.651831 -1.054342  0.572656 -1.378107  0.821235 -0.070877   \n",
       "5262 -0.643911  0.612951 -0.194824  0.767918  0.726322 -1.225412 -0.060520   \n",
       "5263 -0.282999 -0.607342  0.933987  1.339848 -0.627867  0.767836 -0.062189   \n",
       "5264 -0.800487  0.643641 -0.574944  0.121939  1.810656  0.252993 -1.486773   \n",
       "5265 -0.742080  1.138770  0.867347 -0.746669  0.942612 -0.603509  1.735867   \n",
       "\n",
       "            7         8         9   ...        17        18        19  \\\n",
       "0    -0.365823 -0.369326 -0.168643  ... -0.314148 -0.135038  0.954199   \n",
       "1    -0.556190  0.236113  1.222855  ...  1.597688 -0.491842  1.472823   \n",
       "2    -0.087565  0.791539  0.265699  ...  1.353883  0.322616 -0.779567   \n",
       "3     1.441894 -1.013383  0.105240  ...  0.270339  1.661559 -1.431808   \n",
       "4     0.005551 -1.497077  1.009799  ... -0.302135 -0.770287 -0.059553   \n",
       "...        ...       ...       ...  ...       ...       ...       ...   \n",
       "5261  0.001593  0.922347 -1.964685  ... -0.254746 -0.532356 -1.234900   \n",
       "5262 -1.396778  1.653956 -0.668348  ... -0.152009 -1.093858  1.300815   \n",
       "5263 -1.479858 -1.722287 -1.062303  ... -1.404846 -0.677992  0.660994   \n",
       "5264 -0.081766  0.807490  0.658046  ... -1.121907  0.913671 -1.620122   \n",
       "5265  1.092937 -0.922815  0.042063  ...  2.754113 -0.521413  0.545102   \n",
       "\n",
       "            20        21        22        23        24        25        26  \n",
       "0    -1.141506  1.018330 -0.758034 -0.251249 -0.260766  0.989570 -0.538327  \n",
       "1    -0.473942  0.187930  0.218855  0.695292 -0.752812 -0.011255  1.222044  \n",
       "2    -0.324279 -1.252193  0.533928 -0.393589 -0.152217 -0.607616 -0.064996  \n",
       "3    -1.743928  0.098326 -0.039271  0.513137  0.495054  0.457317 -0.369797  \n",
       "4    -0.605963 -0.674328 -0.998330  0.141025 -1.570002  0.195214  0.539553  \n",
       "...        ...       ...       ...       ...       ...       ...       ...  \n",
       "5261  0.995977  1.059190 -1.073477  2.049936  0.891027  2.397933 -1.294907  \n",
       "5262  0.424382  0.990389 -1.152223 -0.186793  0.133913 -0.068834  0.064354  \n",
       "5263  0.426980 -1.550055 -1.076564 -0.348365  1.193535 -1.158135  0.421281  \n",
       "5264 -1.281266  1.251629 -0.321120 -1.272483  0.491101 -0.370764 -0.656110  \n",
       "5265 -0.650915  0.076278 -0.965741 -0.763525 -0.333957 -0.004835  0.990156  \n",
       "\n",
       "[5266 rows x 27 columns]"
      ]
     },
     "execution_count": 19,
     "metadata": {},
     "output_type": "execute_result"
    }
   ],
   "source": [
    "df"
   ]
  },
  {
   "cell_type": "code",
   "execution_count": 27,
   "metadata": {},
   "outputs": [],
   "source": [
    "a = np.array([np.nan])"
   ]
  },
  {
   "cell_type": "code",
   "execution_count": 28,
   "metadata": {},
   "outputs": [],
   "source": [
    "xd = pd.DataFrame(a)"
   ]
  },
  {
   "cell_type": "code",
   "execution_count": 29,
   "metadata": {},
   "outputs": [
    {
     "data": {
      "text/html": [
       "<div>\n",
       "<style scoped>\n",
       "    .dataframe tbody tr th:only-of-type {\n",
       "        vertical-align: middle;\n",
       "    }\n",
       "\n",
       "    .dataframe tbody tr th {\n",
       "        vertical-align: top;\n",
       "    }\n",
       "\n",
       "    .dataframe thead th {\n",
       "        text-align: right;\n",
       "    }\n",
       "</style>\n",
       "<table border=\"1\" class=\"dataframe\">\n",
       "  <thead>\n",
       "    <tr style=\"text-align: right;\">\n",
       "      <th></th>\n",
       "      <th>0</th>\n",
       "    </tr>\n",
       "  </thead>\n",
       "  <tbody>\n",
       "    <tr>\n",
       "      <th>0</th>\n",
       "      <td>NaN</td>\n",
       "    </tr>\n",
       "  </tbody>\n",
       "</table>\n",
       "</div>"
      ],
      "text/plain": [
       "    0\n",
       "0 NaN"
      ]
     },
     "execution_count": 29,
     "metadata": {},
     "output_type": "execute_result"
    }
   ],
   "source": [
    "xd"
   ]
  },
  {
   "cell_type": "code",
   "execution_count": 38,
   "metadata": {},
   "outputs": [],
   "source": [
    "if xd.values is None:\n",
    "    print('hello')"
   ]
  },
  {
   "cell_type": "code",
   "execution_count": 41,
   "metadata": {},
   "outputs": [
    {
     "data": {
      "text/plain": [
       "array([[False]])"
      ]
     },
     "execution_count": 41,
     "metadata": {},
     "output_type": "execute_result"
    }
   ],
   "source": [
    "xd.values == npnp.nan"
   ]
  },
  {
   "cell_type": "code",
   "execution_count": null,
   "metadata": {},
   "outputs": [],
   "source": []
  },
  {
   "cell_type": "code",
   "execution_count": 22,
   "metadata": {},
   "outputs": [],
   "source": [
    "Y = None"
   ]
  },
  {
   "cell_type": "code",
   "execution_count": 24,
   "metadata": {},
   "outputs": [
    {
     "name": "stdout",
     "output_type": "stream",
     "text": [
      "hi\n"
     ]
    }
   ],
   "source": [
    "if Y is None:\n",
    "    print('hi')"
   ]
  },
  {
   "cell_type": "code",
   "execution_count": 26,
   "metadata": {},
   "outputs": [],
   "source": [
    "features = [\n",
    "                'periodTimeSec', 'period', 'coordinate_x', 'coordinate_y',\n",
    "                'distanceFromGoal', 'shotAngle', 'lastEventCoord_x', 'lastEventCoord_y',\n",
    "                'timeDifference', 'distanceDifference', 'rebound',\n",
    "                'shotAngleDifference', 'speed', 'Backhand', 'Deflected', 'Slap Shot',\n",
    "                'Snap Shot', 'Tip-In', 'Wrap-around', 'Wrist Shot', 'BLOCKED_SHOT',\n",
    "                'FACEOFF', 'GIVEAWAY', 'GOAL', 'HIT', 'MISSED_SHOT', 'SHOT',\n",
    "                'TAKEAWAY', 'PENALTY'\n",
    "            ]"
   ]
  },
  {
   "cell_type": "code",
   "execution_count": 27,
   "metadata": {},
   "outputs": [],
   "source": [
    "xxdd = pd.DataFrame(np.nan, index=[0], columns=features)"
   ]
  },
  {
   "cell_type": "code",
   "execution_count": 28,
   "metadata": {},
   "outputs": [
    {
     "data": {
      "text/html": [
       "<div>\n",
       "<style scoped>\n",
       "    .dataframe tbody tr th:only-of-type {\n",
       "        vertical-align: middle;\n",
       "    }\n",
       "\n",
       "    .dataframe tbody tr th {\n",
       "        vertical-align: top;\n",
       "    }\n",
       "\n",
       "    .dataframe thead th {\n",
       "        text-align: right;\n",
       "    }\n",
       "</style>\n",
       "<table border=\"1\" class=\"dataframe\">\n",
       "  <thead>\n",
       "    <tr style=\"text-align: right;\">\n",
       "      <th></th>\n",
       "      <th>periodTimeSec</th>\n",
       "      <th>period</th>\n",
       "      <th>coordinate_x</th>\n",
       "      <th>coordinate_y</th>\n",
       "      <th>distanceFromGoal</th>\n",
       "      <th>shotAngle</th>\n",
       "      <th>lastEventCoord_x</th>\n",
       "      <th>lastEventCoord_y</th>\n",
       "      <th>timeDifference</th>\n",
       "      <th>distanceDifference</th>\n",
       "      <th>...</th>\n",
       "      <th>Wrist Shot</th>\n",
       "      <th>BLOCKED_SHOT</th>\n",
       "      <th>FACEOFF</th>\n",
       "      <th>GIVEAWAY</th>\n",
       "      <th>GOAL</th>\n",
       "      <th>HIT</th>\n",
       "      <th>MISSED_SHOT</th>\n",
       "      <th>SHOT</th>\n",
       "      <th>TAKEAWAY</th>\n",
       "      <th>PENALTY</th>\n",
       "    </tr>\n",
       "  </thead>\n",
       "  <tbody>\n",
       "    <tr>\n",
       "      <th>0</th>\n",
       "      <td>NaN</td>\n",
       "      <td>NaN</td>\n",
       "      <td>NaN</td>\n",
       "      <td>NaN</td>\n",
       "      <td>NaN</td>\n",
       "      <td>NaN</td>\n",
       "      <td>NaN</td>\n",
       "      <td>NaN</td>\n",
       "      <td>NaN</td>\n",
       "      <td>NaN</td>\n",
       "      <td>...</td>\n",
       "      <td>NaN</td>\n",
       "      <td>NaN</td>\n",
       "      <td>NaN</td>\n",
       "      <td>NaN</td>\n",
       "      <td>NaN</td>\n",
       "      <td>NaN</td>\n",
       "      <td>NaN</td>\n",
       "      <td>NaN</td>\n",
       "      <td>NaN</td>\n",
       "      <td>NaN</td>\n",
       "    </tr>\n",
       "  </tbody>\n",
       "</table>\n",
       "<p>1 rows × 29 columns</p>\n",
       "</div>"
      ],
      "text/plain": [
       "   periodTimeSec  period  coordinate_x  coordinate_y  distanceFromGoal  \\\n",
       "0            NaN     NaN           NaN           NaN               NaN   \n",
       "\n",
       "   shotAngle  lastEventCoord_x  lastEventCoord_y  timeDifference  \\\n",
       "0        NaN               NaN               NaN             NaN   \n",
       "\n",
       "   distanceDifference  ...  Wrist Shot  BLOCKED_SHOT  FACEOFF  GIVEAWAY  GOAL  \\\n",
       "0                 NaN  ...         NaN           NaN      NaN       NaN   NaN   \n",
       "\n",
       "   HIT  MISSED_SHOT  SHOT  TAKEAWAY  PENALTY  \n",
       "0  NaN          NaN   NaN       NaN      NaN  \n",
       "\n",
       "[1 rows x 29 columns]"
      ]
     },
     "execution_count": 28,
     "metadata": {},
     "output_type": "execute_result"
    }
   ],
   "source": [
    "xxdd"
   ]
  }
 ],
 "metadata": {
  "kernelspec": {
   "display_name": "IFT6758 - Projet (3.9.14)",
   "language": "python",
   "name": "projet6758ift-venv"
  },
  "language_info": {
   "codemirror_mode": {
    "name": "ipython",
    "version": 3
   },
   "file_extension": ".py",
   "mimetype": "text/x-python",
   "name": "python",
   "nbconvert_exporter": "python",
   "pygments_lexer": "ipython3",
   "version": "3.9.14"
  },
  "vscode": {
   "interpreter": {
    "hash": "03f63f85d34a86951fdd09f7b3b0285069732ac202bbeee5bca858bc6be7fe2b"
   }
  }
 },
 "nbformat": 4,
 "nbformat_minor": 4
}
