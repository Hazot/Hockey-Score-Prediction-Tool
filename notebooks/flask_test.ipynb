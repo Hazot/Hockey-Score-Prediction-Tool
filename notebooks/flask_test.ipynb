{
 "cells": [
  {
   "cell_type": "code",
   "execution_count": 1,
   "metadata": {},
   "outputs": [],
   "source": [
    "import requests\n",
    "import json\n",
    "import pandas as pd\n",
    "import numpy as np\n",
    "import ift6758\n",
    "from pathlib import Path"
   ]
  },
  {
   "cell_type": "code",
   "execution_count": 2,
   "metadata": {},
   "outputs": [],
   "source": [
    "import os\n",
    "from pathlib import Path\n",
    "import logging\n",
    "from flask import Flask, jsonify, request, abort, g\n",
    "import xgboost\n",
    "import requests\n",
    "import pandas as pd\n",
    "from comet_ml import API\n",
    "import joblib\n",
    "\n",
    "import sklearn\n",
    "import ift6758"
   ]
  },
  {
   "cell_type": "code",
   "execution_count": 3,
   "metadata": {},
   "outputs": [],
   "source": [
    "try:\n",
    "    hey = requests.get(\"http://0.0.0.0:5000/hello\")\n",
    "except Exception as e:\n",
    "    print(e)"
   ]
  },
  {
   "cell_type": "code",
   "execution_count": 4,
   "metadata": {},
   "outputs": [
    {
     "data": {
      "text/plain": [
       "'Hello!\\n\\nThe purpose of this page is to know if requests work.'"
      ]
     },
     "execution_count": 4,
     "metadata": {},
     "output_type": "execute_result"
    }
   ],
   "source": [
    "hey.text"
   ]
  },
  {
   "cell_type": "code",
   "execution_count": 5,
   "metadata": {},
   "outputs": [
    {
     "data": {
      "text/plain": [
       "['2022-12-21 21:55:41,748;INFO;Before first request - Start',\n",
       " \"2022-12-21 21:55:42,321;INFO;Default model properly loaded: {'workspace': 'ift-6758-projet-quipe-13', 'model': 'xgboost-best-all-features', 'version': '1.0.0', 'filename': 'XGBoost_best_all_features.pkl'}.\",\n",
       " '2022-12-21 21:55:42,321;INFO;Before first request - End',\n",
       " '2022-12-21 21:55:42,322;INFO;Accessed page /hello - TESTING',\n",
       " '2022-12-21 21:55:42,349;INFO;Accessed page /logs']"
      ]
     },
     "execution_count": 5,
     "metadata": {},
     "output_type": "execute_result"
    }
   ],
   "source": [
    "logs = requests.get(\"http://0.0.0.0:5000/logs\")\n",
    "logs.json()[-5:]"
   ]
  },
  {
   "cell_type": "code",
   "execution_count": 6,
   "metadata": {},
   "outputs": [],
   "source": [
    "default_model = {\n",
    "    'workspace': 'ift-6758-projet-quipe-13',\n",
    "    'model': 'xgboost-base-all-features',\n",
    "    'version': '1.0.0'\n",
    "}"
   ]
  },
  {
   "cell_type": "code",
   "execution_count": 7,
   "metadata": {},
   "outputs": [],
   "source": [
    "model = requests.post(\"http://0.0.0.0:5000/download_registry_model\", json=default_model)"
   ]
  },
  {
   "cell_type": "code",
   "execution_count": 8,
   "metadata": {},
   "outputs": [
    {
     "data": {
      "text/plain": [
       "'\"Updated model from CometML api and downloaded locally.\"\\n'"
      ]
     },
     "execution_count": 8,
     "metadata": {},
     "output_type": "execute_result"
    }
   ],
   "source": [
    "model.text"
   ]
  },
  {
   "cell_type": "code",
   "execution_count": 9,
   "metadata": {},
   "outputs": [
    {
     "data": {
      "text/plain": [
       "<Response [200]>"
      ]
     },
     "execution_count": 9,
     "metadata": {},
     "output_type": "execute_result"
    }
   ],
   "source": [
    "model"
   ]
  },
  {
   "cell_type": "code",
   "execution_count": 10,
   "metadata": {},
   "outputs": [],
   "source": [
    "df = pd.DataFrame(np.random.randn(5266, 29))"
   ]
  },
  {
   "cell_type": "code",
   "execution_count": 11,
   "metadata": {},
   "outputs": [],
   "source": [
    "X_dict = {}\n",
    "X_values = df.values.tolist()\n",
    "X_dict['values'] = X_values"
   ]
  },
  {
   "cell_type": "code",
   "execution_count": 12,
   "metadata": {},
   "outputs": [
    {
     "data": {
      "text/plain": [
       "'values'"
      ]
     },
     "execution_count": 12,
     "metadata": {},
     "output_type": "execute_result"
    }
   ],
   "source": [
    "list(X_dict.keys())[0]"
   ]
  },
  {
   "cell_type": "code",
   "execution_count": 13,
   "metadata": {},
   "outputs": [],
   "source": [
    "pred = requests.post(\"http://0.0.0.0:5000/predict\", json=X_dict)"
   ]
  },
  {
   "cell_type": "code",
   "execution_count": 14,
   "metadata": {},
   "outputs": [
    {
     "data": {
      "text/plain": [
       "[0.5731564164161682,\n",
       " 0.4883981943130493,\n",
       " 0.2846738398075104,\n",
       " 0.1125500351190567,\n",
       " 0.6350976228713989,\n",
       " 0.21481068432331085,\n",
       " 0.2358998954296112,\n",
       " 0.38799890875816345,\n",
       " 0.629584550857544,\n",
       " 0.5653513073921204]"
      ]
     },
     "execution_count": 14,
     "metadata": {},
     "output_type": "execute_result"
    }
   ],
   "source": [
    "pred.json()[:10]"
   ]
  },
  {
   "cell_type": "code",
   "execution_count": null,
   "metadata": {},
   "outputs": [],
   "source": []
  },
  {
   "cell_type": "code",
   "execution_count": 15,
   "metadata": {},
   "outputs": [],
   "source": [
    "df = pd.DataFrame(np.random.randn(5266, 27))"
   ]
  },
  {
   "cell_type": "code",
   "execution_count": 16,
   "metadata": {},
   "outputs": [],
   "source": [
    "X_dict = {}\n",
    "X_values = df.values.tolist()\n",
    "X_dict['values'] = X_values"
   ]
  },
  {
   "cell_type": "code",
   "execution_count": 17,
   "metadata": {},
   "outputs": [],
   "source": [
    "pred = requests.post(\"http://0.0.0.0:5000/predict\", json=X_dict)"
   ]
  },
  {
   "cell_type": "code",
   "execution_count": 19,
   "metadata": {},
   "outputs": [
    {
     "data": {
      "text/plain": [
       "'Feature shape mismatch, expected: 29, got 27'"
      ]
     },
     "execution_count": 19,
     "metadata": {},
     "output_type": "execute_result"
    }
   ],
   "source": [
    "pred.json()"
   ]
  },
  {
   "cell_type": "code",
   "execution_count": 20,
   "metadata": {},
   "outputs": [
    {
     "data": {
      "text/html": [
       "<div>\n",
       "<style scoped>\n",
       "    .dataframe tbody tr th:only-of-type {\n",
       "        vertical-align: middle;\n",
       "    }\n",
       "\n",
       "    .dataframe tbody tr th {\n",
       "        vertical-align: top;\n",
       "    }\n",
       "\n",
       "    .dataframe thead th {\n",
       "        text-align: right;\n",
       "    }\n",
       "</style>\n",
       "<table border=\"1\" class=\"dataframe\">\n",
       "  <thead>\n",
       "    <tr style=\"text-align: right;\">\n",
       "      <th></th>\n",
       "      <th>0</th>\n",
       "      <th>1</th>\n",
       "      <th>2</th>\n",
       "      <th>3</th>\n",
       "      <th>4</th>\n",
       "      <th>5</th>\n",
       "      <th>6</th>\n",
       "      <th>7</th>\n",
       "      <th>8</th>\n",
       "      <th>9</th>\n",
       "      <th>...</th>\n",
       "      <th>17</th>\n",
       "      <th>18</th>\n",
       "      <th>19</th>\n",
       "      <th>20</th>\n",
       "      <th>21</th>\n",
       "      <th>22</th>\n",
       "      <th>23</th>\n",
       "      <th>24</th>\n",
       "      <th>25</th>\n",
       "      <th>26</th>\n",
       "    </tr>\n",
       "  </thead>\n",
       "  <tbody>\n",
       "    <tr>\n",
       "      <th>0</th>\n",
       "      <td>1.234908</td>\n",
       "      <td>-0.734066</td>\n",
       "      <td>-1.253741</td>\n",
       "      <td>-1.093556</td>\n",
       "      <td>1.376187</td>\n",
       "      <td>-0.878768</td>\n",
       "      <td>-0.405272</td>\n",
       "      <td>-0.569790</td>\n",
       "      <td>0.212552</td>\n",
       "      <td>-0.214741</td>\n",
       "      <td>...</td>\n",
       "      <td>0.198800</td>\n",
       "      <td>-1.547909</td>\n",
       "      <td>-0.806561</td>\n",
       "      <td>-0.549489</td>\n",
       "      <td>1.246926</td>\n",
       "      <td>0.366559</td>\n",
       "      <td>0.023231</td>\n",
       "      <td>-1.170599</td>\n",
       "      <td>0.434747</td>\n",
       "      <td>0.489296</td>\n",
       "    </tr>\n",
       "    <tr>\n",
       "      <th>1</th>\n",
       "      <td>-0.592501</td>\n",
       "      <td>-0.859050</td>\n",
       "      <td>1.973289</td>\n",
       "      <td>-0.440976</td>\n",
       "      <td>0.011455</td>\n",
       "      <td>-1.450020</td>\n",
       "      <td>-0.674640</td>\n",
       "      <td>-0.435448</td>\n",
       "      <td>1.243778</td>\n",
       "      <td>0.360943</td>\n",
       "      <td>...</td>\n",
       "      <td>0.465301</td>\n",
       "      <td>0.539635</td>\n",
       "      <td>0.625122</td>\n",
       "      <td>1.126807</td>\n",
       "      <td>-0.542630</td>\n",
       "      <td>0.740207</td>\n",
       "      <td>1.478395</td>\n",
       "      <td>-0.423283</td>\n",
       "      <td>-0.016349</td>\n",
       "      <td>0.772436</td>\n",
       "    </tr>\n",
       "    <tr>\n",
       "      <th>2</th>\n",
       "      <td>-0.660579</td>\n",
       "      <td>0.233835</td>\n",
       "      <td>-0.134521</td>\n",
       "      <td>0.088873</td>\n",
       "      <td>-1.536675</td>\n",
       "      <td>-1.846730</td>\n",
       "      <td>-1.184343</td>\n",
       "      <td>0.542409</td>\n",
       "      <td>1.369142</td>\n",
       "      <td>-0.564131</td>\n",
       "      <td>...</td>\n",
       "      <td>-0.448345</td>\n",
       "      <td>0.377150</td>\n",
       "      <td>-0.296248</td>\n",
       "      <td>1.406879</td>\n",
       "      <td>1.843037</td>\n",
       "      <td>-1.765820</td>\n",
       "      <td>-1.679669</td>\n",
       "      <td>-0.089361</td>\n",
       "      <td>-1.463714</td>\n",
       "      <td>1.246184</td>\n",
       "    </tr>\n",
       "    <tr>\n",
       "      <th>3</th>\n",
       "      <td>1.461116</td>\n",
       "      <td>-0.638603</td>\n",
       "      <td>0.783887</td>\n",
       "      <td>1.312160</td>\n",
       "      <td>-0.197346</td>\n",
       "      <td>-0.701314</td>\n",
       "      <td>-0.567216</td>\n",
       "      <td>-0.232465</td>\n",
       "      <td>0.577321</td>\n",
       "      <td>-1.432896</td>\n",
       "      <td>...</td>\n",
       "      <td>-0.783781</td>\n",
       "      <td>0.684234</td>\n",
       "      <td>-0.076710</td>\n",
       "      <td>-0.930033</td>\n",
       "      <td>0.138152</td>\n",
       "      <td>0.302081</td>\n",
       "      <td>0.306951</td>\n",
       "      <td>-0.318013</td>\n",
       "      <td>0.579737</td>\n",
       "      <td>0.182124</td>\n",
       "    </tr>\n",
       "    <tr>\n",
       "      <th>4</th>\n",
       "      <td>1.574554</td>\n",
       "      <td>-0.662837</td>\n",
       "      <td>0.743875</td>\n",
       "      <td>-1.392540</td>\n",
       "      <td>0.969636</td>\n",
       "      <td>-2.548336</td>\n",
       "      <td>-0.968892</td>\n",
       "      <td>0.578839</td>\n",
       "      <td>0.124201</td>\n",
       "      <td>0.055338</td>\n",
       "      <td>...</td>\n",
       "      <td>0.409174</td>\n",
       "      <td>0.159819</td>\n",
       "      <td>-0.806604</td>\n",
       "      <td>-0.985790</td>\n",
       "      <td>0.076453</td>\n",
       "      <td>1.136735</td>\n",
       "      <td>-2.114656</td>\n",
       "      <td>-0.061645</td>\n",
       "      <td>-0.888104</td>\n",
       "      <td>-0.656723</td>\n",
       "    </tr>\n",
       "    <tr>\n",
       "      <th>...</th>\n",
       "      <td>...</td>\n",
       "      <td>...</td>\n",
       "      <td>...</td>\n",
       "      <td>...</td>\n",
       "      <td>...</td>\n",
       "      <td>...</td>\n",
       "      <td>...</td>\n",
       "      <td>...</td>\n",
       "      <td>...</td>\n",
       "      <td>...</td>\n",
       "      <td>...</td>\n",
       "      <td>...</td>\n",
       "      <td>...</td>\n",
       "      <td>...</td>\n",
       "      <td>...</td>\n",
       "      <td>...</td>\n",
       "      <td>...</td>\n",
       "      <td>...</td>\n",
       "      <td>...</td>\n",
       "      <td>...</td>\n",
       "      <td>...</td>\n",
       "    </tr>\n",
       "    <tr>\n",
       "      <th>5261</th>\n",
       "      <td>-0.616106</td>\n",
       "      <td>-0.336303</td>\n",
       "      <td>0.393357</td>\n",
       "      <td>-0.233537</td>\n",
       "      <td>0.314431</td>\n",
       "      <td>2.766134</td>\n",
       "      <td>0.759143</td>\n",
       "      <td>0.836599</td>\n",
       "      <td>0.536985</td>\n",
       "      <td>-2.821661</td>\n",
       "      <td>...</td>\n",
       "      <td>0.774616</td>\n",
       "      <td>-0.689187</td>\n",
       "      <td>0.187204</td>\n",
       "      <td>0.414936</td>\n",
       "      <td>0.355548</td>\n",
       "      <td>-0.585850</td>\n",
       "      <td>0.145940</td>\n",
       "      <td>0.985620</td>\n",
       "      <td>1.356129</td>\n",
       "      <td>-0.220339</td>\n",
       "    </tr>\n",
       "    <tr>\n",
       "      <th>5262</th>\n",
       "      <td>-0.978820</td>\n",
       "      <td>-0.724097</td>\n",
       "      <td>-0.861911</td>\n",
       "      <td>-0.442103</td>\n",
       "      <td>-0.099027</td>\n",
       "      <td>0.494181</td>\n",
       "      <td>-0.305045</td>\n",
       "      <td>-0.108759</td>\n",
       "      <td>1.937575</td>\n",
       "      <td>-0.445053</td>\n",
       "      <td>...</td>\n",
       "      <td>-0.574153</td>\n",
       "      <td>0.794665</td>\n",
       "      <td>0.426413</td>\n",
       "      <td>0.543677</td>\n",
       "      <td>-2.685734</td>\n",
       "      <td>0.929881</td>\n",
       "      <td>0.375776</td>\n",
       "      <td>-0.891258</td>\n",
       "      <td>0.829005</td>\n",
       "      <td>-1.748480</td>\n",
       "    </tr>\n",
       "    <tr>\n",
       "      <th>5263</th>\n",
       "      <td>-1.511991</td>\n",
       "      <td>1.209361</td>\n",
       "      <td>0.205429</td>\n",
       "      <td>0.514973</td>\n",
       "      <td>-1.232118</td>\n",
       "      <td>0.459006</td>\n",
       "      <td>1.040373</td>\n",
       "      <td>-0.313490</td>\n",
       "      <td>0.482681</td>\n",
       "      <td>-0.689133</td>\n",
       "      <td>...</td>\n",
       "      <td>-2.187838</td>\n",
       "      <td>1.110941</td>\n",
       "      <td>0.372466</td>\n",
       "      <td>0.794642</td>\n",
       "      <td>-2.000957</td>\n",
       "      <td>-0.387718</td>\n",
       "      <td>-0.276130</td>\n",
       "      <td>-0.315218</td>\n",
       "      <td>0.978121</td>\n",
       "      <td>1.301628</td>\n",
       "    </tr>\n",
       "    <tr>\n",
       "      <th>5264</th>\n",
       "      <td>-1.794219</td>\n",
       "      <td>0.713019</td>\n",
       "      <td>-0.338968</td>\n",
       "      <td>-0.712401</td>\n",
       "      <td>-0.890946</td>\n",
       "      <td>-1.320608</td>\n",
       "      <td>0.498217</td>\n",
       "      <td>-0.823092</td>\n",
       "      <td>0.662843</td>\n",
       "      <td>1.605881</td>\n",
       "      <td>...</td>\n",
       "      <td>0.182033</td>\n",
       "      <td>-0.475008</td>\n",
       "      <td>-1.144971</td>\n",
       "      <td>0.928936</td>\n",
       "      <td>-1.884905</td>\n",
       "      <td>0.582951</td>\n",
       "      <td>-2.897831</td>\n",
       "      <td>-0.524965</td>\n",
       "      <td>1.495949</td>\n",
       "      <td>-0.604869</td>\n",
       "    </tr>\n",
       "    <tr>\n",
       "      <th>5265</th>\n",
       "      <td>0.142510</td>\n",
       "      <td>1.551498</td>\n",
       "      <td>-1.932428</td>\n",
       "      <td>1.345464</td>\n",
       "      <td>-0.211195</td>\n",
       "      <td>-0.834365</td>\n",
       "      <td>2.055150</td>\n",
       "      <td>0.637073</td>\n",
       "      <td>0.262442</td>\n",
       "      <td>0.388704</td>\n",
       "      <td>...</td>\n",
       "      <td>0.179269</td>\n",
       "      <td>1.508078</td>\n",
       "      <td>-0.550645</td>\n",
       "      <td>-1.405218</td>\n",
       "      <td>-1.287216</td>\n",
       "      <td>1.236113</td>\n",
       "      <td>1.135125</td>\n",
       "      <td>-0.271018</td>\n",
       "      <td>-0.557982</td>\n",
       "      <td>-1.507528</td>\n",
       "    </tr>\n",
       "  </tbody>\n",
       "</table>\n",
       "<p>5266 rows × 27 columns</p>\n",
       "</div>"
      ],
      "text/plain": [
       "            0         1         2         3         4         5         6   \\\n",
       "0     1.234908 -0.734066 -1.253741 -1.093556  1.376187 -0.878768 -0.405272   \n",
       "1    -0.592501 -0.859050  1.973289 -0.440976  0.011455 -1.450020 -0.674640   \n",
       "2    -0.660579  0.233835 -0.134521  0.088873 -1.536675 -1.846730 -1.184343   \n",
       "3     1.461116 -0.638603  0.783887  1.312160 -0.197346 -0.701314 -0.567216   \n",
       "4     1.574554 -0.662837  0.743875 -1.392540  0.969636 -2.548336 -0.968892   \n",
       "...        ...       ...       ...       ...       ...       ...       ...   \n",
       "5261 -0.616106 -0.336303  0.393357 -0.233537  0.314431  2.766134  0.759143   \n",
       "5262 -0.978820 -0.724097 -0.861911 -0.442103 -0.099027  0.494181 -0.305045   \n",
       "5263 -1.511991  1.209361  0.205429  0.514973 -1.232118  0.459006  1.040373   \n",
       "5264 -1.794219  0.713019 -0.338968 -0.712401 -0.890946 -1.320608  0.498217   \n",
       "5265  0.142510  1.551498 -1.932428  1.345464 -0.211195 -0.834365  2.055150   \n",
       "\n",
       "            7         8         9   ...        17        18        19  \\\n",
       "0    -0.569790  0.212552 -0.214741  ...  0.198800 -1.547909 -0.806561   \n",
       "1    -0.435448  1.243778  0.360943  ...  0.465301  0.539635  0.625122   \n",
       "2     0.542409  1.369142 -0.564131  ... -0.448345  0.377150 -0.296248   \n",
       "3    -0.232465  0.577321 -1.432896  ... -0.783781  0.684234 -0.076710   \n",
       "4     0.578839  0.124201  0.055338  ...  0.409174  0.159819 -0.806604   \n",
       "...        ...       ...       ...  ...       ...       ...       ...   \n",
       "5261  0.836599  0.536985 -2.821661  ...  0.774616 -0.689187  0.187204   \n",
       "5262 -0.108759  1.937575 -0.445053  ... -0.574153  0.794665  0.426413   \n",
       "5263 -0.313490  0.482681 -0.689133  ... -2.187838  1.110941  0.372466   \n",
       "5264 -0.823092  0.662843  1.605881  ...  0.182033 -0.475008 -1.144971   \n",
       "5265  0.637073  0.262442  0.388704  ...  0.179269  1.508078 -0.550645   \n",
       "\n",
       "            20        21        22        23        24        25        26  \n",
       "0    -0.549489  1.246926  0.366559  0.023231 -1.170599  0.434747  0.489296  \n",
       "1     1.126807 -0.542630  0.740207  1.478395 -0.423283 -0.016349  0.772436  \n",
       "2     1.406879  1.843037 -1.765820 -1.679669 -0.089361 -1.463714  1.246184  \n",
       "3    -0.930033  0.138152  0.302081  0.306951 -0.318013  0.579737  0.182124  \n",
       "4    -0.985790  0.076453  1.136735 -2.114656 -0.061645 -0.888104 -0.656723  \n",
       "...        ...       ...       ...       ...       ...       ...       ...  \n",
       "5261  0.414936  0.355548 -0.585850  0.145940  0.985620  1.356129 -0.220339  \n",
       "5262  0.543677 -2.685734  0.929881  0.375776 -0.891258  0.829005 -1.748480  \n",
       "5263  0.794642 -2.000957 -0.387718 -0.276130 -0.315218  0.978121  1.301628  \n",
       "5264  0.928936 -1.884905  0.582951 -2.897831 -0.524965  1.495949 -0.604869  \n",
       "5265 -1.405218 -1.287216  1.236113  1.135125 -0.271018 -0.557982 -1.507528  \n",
       "\n",
       "[5266 rows x 27 columns]"
      ]
     },
     "execution_count": 20,
     "metadata": {},
     "output_type": "execute_result"
    }
   ],
   "source": [
    "df"
   ]
  },
  {
   "cell_type": "code",
   "execution_count": 24,
   "metadata": {},
   "outputs": [],
   "source": [
    "if xd.values is None:\n",
    "    print('hello')"
   ]
  }
 ],
 "metadata": {
  "kernelspec": {
   "display_name": "proj6758ift-venv",
   "language": "python",
   "name": "proj6758ift-venv"
  },
  "language_info": {
   "codemirror_mode": {
    "name": "ipython",
    "version": 3
   },
   "file_extension": ".py",
   "mimetype": "text/x-python",
   "name": "python",
   "nbconvert_exporter": "python",
   "pygments_lexer": "ipython3",
   "version": "3.9.13"
  },
  "vscode": {
   "interpreter": {
    "hash": "03f63f85d34a86951fdd09f7b3b0285069732ac202bbeee5bca858bc6be7fe2b"
   }
  }
 },
 "nbformat": 4,
 "nbformat_minor": 4
}
